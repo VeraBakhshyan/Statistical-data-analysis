{
 "cells": [
  {
   "cell_type": "markdown",
   "id": "510d3f7f",
   "metadata": {},
   "source": [
    "<h1>Проект: Статистический анализ данных<h1>"
   ]
  },
  {
   "cell_type": "markdown",
   "id": "d4641e85",
   "metadata": {},
   "source": [
    "Чтобы совершать поездки по городу, пользователи сервиса GoFast пользуются мобильным приложением. Сервисом можно пользоваться:\n",
    "без подписки\n",
    "абонентская плата отсутствует;\n",
    "стоимость одной минуты поездки — \n",
    "8\n",
    "8 рублей;\n",
    "стоимость старта (начала поездки) — \n",
    "50\n",
    "50 рублей;\n",
    "с подпиской Ultra\n",
    "абонентская плата — \n",
    "199\n",
    "199 рублей в месяц;\n",
    "стоимость одной минуты поездки — \n",
    "6\n",
    "6 рублей;\n",
    "стоимость старта — бесплатно.\n",
    "\n",
    "Описание данных\n",
    "\n",
    "\n",
    "В основных данных есть информация о пользователях, их поездках и подписках.\n",
    "\n",
    "\n",
    "Пользователи — users_go.csv\n",
    "user_id\tуникальный идентификатор пользователя\n",
    "name\tимя пользователя\n",
    "age\tвозраст\n",
    "city\tгород\n",
    "subscription_type\tтип подписки (free, ultra)\n",
    "\n",
    "\n",
    "Поездки — rides_go.csv\n",
    "user_id\tуникальный идентификатор пользователя\n",
    "distance\tрасстояние, которое пользователь проехал в текущей сессии (в метрах)\n",
    "duration\tпродолжительность сессии (в минутах) — время с того момента, как пользователь нажал кнопку «Начать поездку» до момента, как он нажал кнопку «Завершить поездку»\n",
    "date\tдата совершения поездки\n",
    "\n",
    "\n",
    "Подписки — subscriptions_go.csv\n",
    "subscription_type\tтип подписки\n",
    "minute_price\tстоимость одной минуты поездки по данной подписке\n",
    "start_ride_price\tстоимость начала поездки\n",
    "subscription_fee\tстоимость ежемесячного платежа"
   ]
  },
  {
   "cell_type": "markdown",
   "id": "68806d4a",
   "metadata": {},
   "source": [
    "Проанализирую данные и проверю некоторые гипотезы, которые могут помочь бизнесу вырасти.Добавлю библиотеки, которыми буду пользоваться\n"
   ]
  },
  {
   "cell_type": "code",
   "execution_count": 1,
   "id": "d7645f3d",
   "metadata": {},
   "outputs": [],
   "source": [
    "import pandas as pd\n",
    "import numpy as np\n",
    "from scipy import stats as st\n",
    "import matplotlib.pyplot as plt\n",
    "import seaborn"
   ]
  },
  {
   "cell_type": "markdown",
   "id": "c42cbe00",
   "metadata": {},
   "source": [
    "### Загрузка данных"
   ]
  },
  {
   "cell_type": "markdown",
   "id": "d3ab653d",
   "metadata": {},
   "source": [
    "#### считаем файлы и сохраним их в датафреймы\n"
   ]
  },
  {
   "cell_type": "code",
   "execution_count": 2,
   "id": "7c7acd8a",
   "metadata": {},
   "outputs": [],
   "source": [
    "user = pd.read_csv('/datasets/users_go.csv')\n",
    "ride = pd.read_csv('/datasets/rides_go.csv')\n",
    "subscription = pd.read_csv('/datasets/subscriptions_go.csv')"
   ]
  },
  {
   "cell_type": "markdown",
   "id": "a73d0721",
   "metadata": {},
   "source": [
    "#### выведем первые строки каждого датафрейма и узнаем информацию о них"
   ]
  },
  {
   "cell_type": "code",
   "execution_count": 3,
   "id": "22235522",
   "metadata": {},
   "outputs": [
    {
     "name": "stdout",
     "output_type": "stream",
     "text": [
      "<class 'pandas.core.frame.DataFrame'>\n",
      "RangeIndex: 1565 entries, 0 to 1564\n",
      "Data columns (total 5 columns):\n",
      " #   Column             Non-Null Count  Dtype \n",
      "---  ------             --------------  ----- \n",
      " 0   user_id            1565 non-null   int64 \n",
      " 1   name               1565 non-null   object\n",
      " 2   age                1565 non-null   int64 \n",
      " 3   city               1565 non-null   object\n",
      " 4   subscription_type  1565 non-null   object\n",
      "dtypes: int64(2), object(3)\n",
      "memory usage: 61.3+ KB\n",
      "<class 'pandas.core.frame.DataFrame'>\n",
      "RangeIndex: 18068 entries, 0 to 18067\n",
      "Data columns (total 4 columns):\n",
      " #   Column    Non-Null Count  Dtype  \n",
      "---  ------    --------------  -----  \n",
      " 0   user_id   18068 non-null  int64  \n",
      " 1   distance  18068 non-null  float64\n",
      " 2   duration  18068 non-null  float64\n",
      " 3   date      18068 non-null  object \n",
      "dtypes: float64(2), int64(1), object(1)\n",
      "memory usage: 564.8+ KB\n",
      "<class 'pandas.core.frame.DataFrame'>\n",
      "RangeIndex: 2 entries, 0 to 1\n",
      "Data columns (total 4 columns):\n",
      " #   Column             Non-Null Count  Dtype \n",
      "---  ------             --------------  ----- \n",
      " 0   subscription_type  2 non-null      object\n",
      " 1   minute_price       2 non-null      int64 \n",
      " 2   start_ride_price   2 non-null      int64 \n",
      " 3   subscription_fee   2 non-null      int64 \n",
      "dtypes: int64(3), object(1)\n",
      "memory usage: 192.0+ bytes\n"
     ]
    }
   ],
   "source": [
    "user.info()\n",
    "ride.info()\n",
    "subscription.info()"
   ]
  },
  {
   "cell_type": "code",
   "execution_count": 4,
   "id": "7e8242d2",
   "metadata": {},
   "outputs": [
    {
     "data": {
      "text/html": [
       "<div>\n",
       "<style scoped>\n",
       "    .dataframe tbody tr th:only-of-type {\n",
       "        vertical-align: middle;\n",
       "    }\n",
       "\n",
       "    .dataframe tbody tr th {\n",
       "        vertical-align: top;\n",
       "    }\n",
       "\n",
       "    .dataframe thead th {\n",
       "        text-align: right;\n",
       "    }\n",
       "</style>\n",
       "<table border=\"1\" class=\"dataframe\">\n",
       "  <thead>\n",
       "    <tr style=\"text-align: right;\">\n",
       "      <th></th>\n",
       "      <th>user_id</th>\n",
       "      <th>name</th>\n",
       "      <th>age</th>\n",
       "      <th>city</th>\n",
       "      <th>subscription_type</th>\n",
       "    </tr>\n",
       "  </thead>\n",
       "  <tbody>\n",
       "    <tr>\n",
       "      <th>0</th>\n",
       "      <td>1</td>\n",
       "      <td>Кира</td>\n",
       "      <td>22</td>\n",
       "      <td>Тюмень</td>\n",
       "      <td>ultra</td>\n",
       "    </tr>\n",
       "    <tr>\n",
       "      <th>1</th>\n",
       "      <td>2</td>\n",
       "      <td>Станислав</td>\n",
       "      <td>31</td>\n",
       "      <td>Омск</td>\n",
       "      <td>ultra</td>\n",
       "    </tr>\n",
       "    <tr>\n",
       "      <th>2</th>\n",
       "      <td>3</td>\n",
       "      <td>Алексей</td>\n",
       "      <td>20</td>\n",
       "      <td>Москва</td>\n",
       "      <td>ultra</td>\n",
       "    </tr>\n",
       "    <tr>\n",
       "      <th>3</th>\n",
       "      <td>4</td>\n",
       "      <td>Константин</td>\n",
       "      <td>26</td>\n",
       "      <td>Ростов-на-Дону</td>\n",
       "      <td>ultra</td>\n",
       "    </tr>\n",
       "    <tr>\n",
       "      <th>4</th>\n",
       "      <td>5</td>\n",
       "      <td>Адель</td>\n",
       "      <td>28</td>\n",
       "      <td>Омск</td>\n",
       "      <td>ultra</td>\n",
       "    </tr>\n",
       "  </tbody>\n",
       "</table>\n",
       "</div>"
      ],
      "text/plain": [
       "   user_id        name  age            city subscription_type\n",
       "0        1        Кира   22          Тюмень             ultra\n",
       "1        2   Станислав   31            Омск             ultra\n",
       "2        3     Алексей   20          Москва             ultra\n",
       "3        4  Константин   26  Ростов-на-Дону             ultra\n",
       "4        5       Адель   28            Омск             ultra"
      ]
     },
     "execution_count": 4,
     "metadata": {},
     "output_type": "execute_result"
    }
   ],
   "source": [
    "user.head()"
   ]
  },
  {
   "cell_type": "code",
   "execution_count": 5,
   "id": "d9158410",
   "metadata": {},
   "outputs": [
    {
     "data": {
      "text/html": [
       "<div>\n",
       "<style scoped>\n",
       "    .dataframe tbody tr th:only-of-type {\n",
       "        vertical-align: middle;\n",
       "    }\n",
       "\n",
       "    .dataframe tbody tr th {\n",
       "        vertical-align: top;\n",
       "    }\n",
       "\n",
       "    .dataframe thead th {\n",
       "        text-align: right;\n",
       "    }\n",
       "</style>\n",
       "<table border=\"1\" class=\"dataframe\">\n",
       "  <thead>\n",
       "    <tr style=\"text-align: right;\">\n",
       "      <th></th>\n",
       "      <th>user_id</th>\n",
       "      <th>distance</th>\n",
       "      <th>duration</th>\n",
       "      <th>date</th>\n",
       "    </tr>\n",
       "  </thead>\n",
       "  <tbody>\n",
       "    <tr>\n",
       "      <th>0</th>\n",
       "      <td>1</td>\n",
       "      <td>4409.919140</td>\n",
       "      <td>25.599769</td>\n",
       "      <td>2021-01-01</td>\n",
       "    </tr>\n",
       "    <tr>\n",
       "      <th>1</th>\n",
       "      <td>1</td>\n",
       "      <td>2617.592153</td>\n",
       "      <td>15.816871</td>\n",
       "      <td>2021-01-18</td>\n",
       "    </tr>\n",
       "    <tr>\n",
       "      <th>2</th>\n",
       "      <td>1</td>\n",
       "      <td>754.159807</td>\n",
       "      <td>6.232113</td>\n",
       "      <td>2021-04-20</td>\n",
       "    </tr>\n",
       "    <tr>\n",
       "      <th>3</th>\n",
       "      <td>1</td>\n",
       "      <td>2694.783254</td>\n",
       "      <td>18.511000</td>\n",
       "      <td>2021-08-11</td>\n",
       "    </tr>\n",
       "    <tr>\n",
       "      <th>4</th>\n",
       "      <td>1</td>\n",
       "      <td>4028.687306</td>\n",
       "      <td>26.265803</td>\n",
       "      <td>2021-08-28</td>\n",
       "    </tr>\n",
       "  </tbody>\n",
       "</table>\n",
       "</div>"
      ],
      "text/plain": [
       "   user_id     distance   duration        date\n",
       "0        1  4409.919140  25.599769  2021-01-01\n",
       "1        1  2617.592153  15.816871  2021-01-18\n",
       "2        1   754.159807   6.232113  2021-04-20\n",
       "3        1  2694.783254  18.511000  2021-08-11\n",
       "4        1  4028.687306  26.265803  2021-08-28"
      ]
     },
     "execution_count": 5,
     "metadata": {},
     "output_type": "execute_result"
    }
   ],
   "source": [
    "ride.head()"
   ]
  },
  {
   "cell_type": "code",
   "execution_count": 6,
   "id": "390c5d2d",
   "metadata": {},
   "outputs": [
    {
     "data": {
      "text/html": [
       "<div>\n",
       "<style scoped>\n",
       "    .dataframe tbody tr th:only-of-type {\n",
       "        vertical-align: middle;\n",
       "    }\n",
       "\n",
       "    .dataframe tbody tr th {\n",
       "        vertical-align: top;\n",
       "    }\n",
       "\n",
       "    .dataframe thead th {\n",
       "        text-align: right;\n",
       "    }\n",
       "</style>\n",
       "<table border=\"1\" class=\"dataframe\">\n",
       "  <thead>\n",
       "    <tr style=\"text-align: right;\">\n",
       "      <th></th>\n",
       "      <th>subscription_type</th>\n",
       "      <th>minute_price</th>\n",
       "      <th>start_ride_price</th>\n",
       "      <th>subscription_fee</th>\n",
       "    </tr>\n",
       "  </thead>\n",
       "  <tbody>\n",
       "    <tr>\n",
       "      <th>0</th>\n",
       "      <td>free</td>\n",
       "      <td>8</td>\n",
       "      <td>50</td>\n",
       "      <td>0</td>\n",
       "    </tr>\n",
       "    <tr>\n",
       "      <th>1</th>\n",
       "      <td>ultra</td>\n",
       "      <td>6</td>\n",
       "      <td>0</td>\n",
       "      <td>199</td>\n",
       "    </tr>\n",
       "  </tbody>\n",
       "</table>\n",
       "</div>"
      ],
      "text/plain": [
       "  subscription_type  minute_price  start_ride_price  subscription_fee\n",
       "0              free             8                50                 0\n",
       "1             ultra             6                 0               199"
      ]
     },
     "execution_count": 6,
     "metadata": {},
     "output_type": "execute_result"
    }
   ],
   "source": [
    "subscription.head()"
   ]
  },
  {
   "cell_type": "markdown",
   "id": "e95ebca7",
   "metadata": {},
   "source": [
    "### Предобработка данных"
   ]
  },
  {
   "cell_type": "markdown",
   "id": "53bf9280",
   "metadata": {},
   "source": [
    "#### Приведу столбец date к типу даты pandas."
   ]
  },
  {
   "cell_type": "code",
   "execution_count": 7,
   "id": "855c8889",
   "metadata": {},
   "outputs": [
    {
     "name": "stdout",
     "output_type": "stream",
     "text": [
      "<class 'pandas.core.frame.DataFrame'>\n",
      "RangeIndex: 18068 entries, 0 to 18067\n",
      "Data columns (total 4 columns):\n",
      " #   Column    Non-Null Count  Dtype         \n",
      "---  ------    --------------  -----         \n",
      " 0   user_id   18068 non-null  int64         \n",
      " 1   distance  18068 non-null  float64       \n",
      " 2   duration  18068 non-null  float64       \n",
      " 3   date      18068 non-null  datetime64[ns]\n",
      "dtypes: datetime64[ns](1), float64(2), int64(1)\n",
      "memory usage: 564.8 KB\n"
     ]
    }
   ],
   "source": [
    "ride['date'] = pd.to_datetime(ride['date'], format = '%Y-%m-%d')\n",
    "ride.info()   "
   ]
  },
  {
   "cell_type": "code",
   "execution_count": 8,
   "id": "9a0cf724",
   "metadata": {},
   "outputs": [
    {
     "data": {
      "text/html": [
       "<div>\n",
       "<style scoped>\n",
       "    .dataframe tbody tr th:only-of-type {\n",
       "        vertical-align: middle;\n",
       "    }\n",
       "\n",
       "    .dataframe tbody tr th {\n",
       "        vertical-align: top;\n",
       "    }\n",
       "\n",
       "    .dataframe thead th {\n",
       "        text-align: right;\n",
       "    }\n",
       "</style>\n",
       "<table border=\"1\" class=\"dataframe\">\n",
       "  <thead>\n",
       "    <tr style=\"text-align: right;\">\n",
       "      <th></th>\n",
       "      <th>user_id</th>\n",
       "      <th>distance</th>\n",
       "      <th>duration</th>\n",
       "      <th>date</th>\n",
       "    </tr>\n",
       "  </thead>\n",
       "  <tbody>\n",
       "    <tr>\n",
       "      <th>0</th>\n",
       "      <td>1</td>\n",
       "      <td>4409.919140</td>\n",
       "      <td>25.599769</td>\n",
       "      <td>2021-01-01</td>\n",
       "    </tr>\n",
       "    <tr>\n",
       "      <th>1</th>\n",
       "      <td>1</td>\n",
       "      <td>2617.592153</td>\n",
       "      <td>15.816871</td>\n",
       "      <td>2021-01-18</td>\n",
       "    </tr>\n",
       "    <tr>\n",
       "      <th>2</th>\n",
       "      <td>1</td>\n",
       "      <td>754.159807</td>\n",
       "      <td>6.232113</td>\n",
       "      <td>2021-04-20</td>\n",
       "    </tr>\n",
       "    <tr>\n",
       "      <th>3</th>\n",
       "      <td>1</td>\n",
       "      <td>2694.783254</td>\n",
       "      <td>18.511000</td>\n",
       "      <td>2021-08-11</td>\n",
       "    </tr>\n",
       "    <tr>\n",
       "      <th>4</th>\n",
       "      <td>1</td>\n",
       "      <td>4028.687306</td>\n",
       "      <td>26.265803</td>\n",
       "      <td>2021-08-28</td>\n",
       "    </tr>\n",
       "  </tbody>\n",
       "</table>\n",
       "</div>"
      ],
      "text/plain": [
       "   user_id     distance   duration       date\n",
       "0        1  4409.919140  25.599769 2021-01-01\n",
       "1        1  2617.592153  15.816871 2021-01-18\n",
       "2        1   754.159807   6.232113 2021-04-20\n",
       "3        1  2694.783254  18.511000 2021-08-11\n",
       "4        1  4028.687306  26.265803 2021-08-28"
      ]
     },
     "execution_count": 8,
     "metadata": {},
     "output_type": "execute_result"
    }
   ],
   "source": [
    "ride.head()"
   ]
  },
  {
   "cell_type": "markdown",
   "id": "6b08cb45",
   "metadata": {},
   "source": [
    "#### Создаю новый столбец с номером месяца на основе столбца date.\n"
   ]
  },
  {
   "cell_type": "code",
   "execution_count": 9,
   "id": "96ed62f3",
   "metadata": {},
   "outputs": [
    {
     "data": {
      "text/html": [
       "<div>\n",
       "<style scoped>\n",
       "    .dataframe tbody tr th:only-of-type {\n",
       "        vertical-align: middle;\n",
       "    }\n",
       "\n",
       "    .dataframe tbody tr th {\n",
       "        vertical-align: top;\n",
       "    }\n",
       "\n",
       "    .dataframe thead th {\n",
       "        text-align: right;\n",
       "    }\n",
       "</style>\n",
       "<table border=\"1\" class=\"dataframe\">\n",
       "  <thead>\n",
       "    <tr style=\"text-align: right;\">\n",
       "      <th></th>\n",
       "      <th>user_id</th>\n",
       "      <th>distance</th>\n",
       "      <th>duration</th>\n",
       "      <th>date</th>\n",
       "      <th>date_month</th>\n",
       "    </tr>\n",
       "  </thead>\n",
       "  <tbody>\n",
       "    <tr>\n",
       "      <th>0</th>\n",
       "      <td>1</td>\n",
       "      <td>4409.919140</td>\n",
       "      <td>25.599769</td>\n",
       "      <td>2021-01-01</td>\n",
       "      <td>1</td>\n",
       "    </tr>\n",
       "    <tr>\n",
       "      <th>1</th>\n",
       "      <td>1</td>\n",
       "      <td>2617.592153</td>\n",
       "      <td>15.816871</td>\n",
       "      <td>2021-01-18</td>\n",
       "      <td>1</td>\n",
       "    </tr>\n",
       "    <tr>\n",
       "      <th>2</th>\n",
       "      <td>1</td>\n",
       "      <td>754.159807</td>\n",
       "      <td>6.232113</td>\n",
       "      <td>2021-04-20</td>\n",
       "      <td>4</td>\n",
       "    </tr>\n",
       "    <tr>\n",
       "      <th>3</th>\n",
       "      <td>1</td>\n",
       "      <td>2694.783254</td>\n",
       "      <td>18.511000</td>\n",
       "      <td>2021-08-11</td>\n",
       "      <td>8</td>\n",
       "    </tr>\n",
       "    <tr>\n",
       "      <th>4</th>\n",
       "      <td>1</td>\n",
       "      <td>4028.687306</td>\n",
       "      <td>26.265803</td>\n",
       "      <td>2021-08-28</td>\n",
       "      <td>8</td>\n",
       "    </tr>\n",
       "  </tbody>\n",
       "</table>\n",
       "</div>"
      ],
      "text/plain": [
       "   user_id     distance   duration       date  date_month\n",
       "0        1  4409.919140  25.599769 2021-01-01           1\n",
       "1        1  2617.592153  15.816871 2021-01-18           1\n",
       "2        1   754.159807   6.232113 2021-04-20           4\n",
       "3        1  2694.783254  18.511000 2021-08-11           8\n",
       "4        1  4028.687306  26.265803 2021-08-28           8"
      ]
     },
     "execution_count": 9,
     "metadata": {},
     "output_type": "execute_result"
    }
   ],
   "source": [
    "ride['date_month'] = pd.DatetimeIndex(ride['date']).month\n",
    "ride.head()"
   ]
  },
  {
   "cell_type": "markdown",
   "id": "3b7c204a",
   "metadata": {},
   "source": [
    "#### Проверю наличие пропущенных значений и дубликатов в датафреймах и обработаю их"
   ]
  },
  {
   "cell_type": "markdown",
   "id": "ddec6079",
   "metadata": {},
   "source": [
    "##### в user"
   ]
  },
  {
   "cell_type": "code",
   "execution_count": 10,
   "id": "86f95568",
   "metadata": {},
   "outputs": [
    {
     "data": {
      "text/plain": [
       "31"
      ]
     },
     "execution_count": 10,
     "metadata": {},
     "output_type": "execute_result"
    }
   ],
   "source": [
    "user.duplicated().sum()"
   ]
  },
  {
   "cell_type": "code",
   "execution_count": 11,
   "id": "cc99a17c",
   "metadata": {},
   "outputs": [
    {
     "data": {
      "text/plain": [
       "user_id              0\n",
       "name                 0\n",
       "age                  0\n",
       "city                 0\n",
       "subscription_type    0\n",
       "dtype: int64"
      ]
     },
     "execution_count": 11,
     "metadata": {},
     "output_type": "execute_result"
    }
   ],
   "source": [
    "user.isna().sum()"
   ]
  },
  {
   "cell_type": "markdown",
   "id": "42fb712c",
   "metadata": {},
   "source": [
    "#####  в ride"
   ]
  },
  {
   "cell_type": "code",
   "execution_count": 12,
   "id": "a382db49",
   "metadata": {},
   "outputs": [
    {
     "data": {
      "text/plain": [
       "0"
      ]
     },
     "execution_count": 12,
     "metadata": {},
     "output_type": "execute_result"
    }
   ],
   "source": [
    "ride.duplicated().sum()"
   ]
  },
  {
   "cell_type": "code",
   "execution_count": 13,
   "id": "0947ae1d",
   "metadata": {},
   "outputs": [
    {
     "data": {
      "text/plain": [
       "user_id       0\n",
       "distance      0\n",
       "duration      0\n",
       "date          0\n",
       "date_month    0\n",
       "dtype: int64"
      ]
     },
     "execution_count": 13,
     "metadata": {},
     "output_type": "execute_result"
    }
   ],
   "source": [
    "ride.isna().sum()"
   ]
  },
  {
   "cell_type": "markdown",
   "id": "c602f30e",
   "metadata": {},
   "source": [
    "#####  в subscription"
   ]
  },
  {
   "cell_type": "code",
   "execution_count": 14,
   "id": "c154a884",
   "metadata": {},
   "outputs": [
    {
     "data": {
      "text/plain": [
       "0"
      ]
     },
     "execution_count": 14,
     "metadata": {},
     "output_type": "execute_result"
    }
   ],
   "source": [
    "subscription.duplicated().sum()"
   ]
  },
  {
   "cell_type": "code",
   "execution_count": 15,
   "id": "ab9d104c",
   "metadata": {},
   "outputs": [
    {
     "data": {
      "text/plain": [
       "subscription_type    0\n",
       "minute_price         0\n",
       "start_ride_price     0\n",
       "subscription_fee     0\n",
       "dtype: int64"
      ]
     },
     "execution_count": 15,
     "metadata": {},
     "output_type": "execute_result"
    }
   ],
   "source": [
    "subscription.isna().sum()"
   ]
  },
  {
   "cell_type": "markdown",
   "id": "1d576af7",
   "metadata": {},
   "source": [
    "Пропущенных значений нет, а дубликаты есть только в user. Проверим что за дубликаты."
   ]
  },
  {
   "cell_type": "code",
   "execution_count": 16,
   "id": "ab33a402",
   "metadata": {},
   "outputs": [
    {
     "data": {
      "text/plain": [
       "0"
      ]
     },
     "execution_count": 16,
     "metadata": {},
     "output_type": "execute_result"
    }
   ],
   "source": [
    "user = user.drop_duplicates()\n",
    "user.duplicated().sum()"
   ]
  },
  {
   "cell_type": "markdown",
   "id": "212593c7",
   "metadata": {},
   "source": [
    "### Исследовательский анализ данных"
   ]
  },
  {
   "cell_type": "markdown",
   "id": "7099db2e",
   "metadata": {},
   "source": [
    "#### Опишим и визуализируем частоту встречаемости городов:"
   ]
  },
  {
   "cell_type": "code",
   "execution_count": 17,
   "id": "a3ce3c05",
   "metadata": {},
   "outputs": [
    {
     "data": {
      "text/plain": [
       "Text(0, 0.5, 'Частота встречаемости')"
      ]
     },
     "execution_count": 17,
     "metadata": {},
     "output_type": "execute_result"
    },
    {
     "data": {
      "image/png": "[encoded data removed]",
      "text/plain": [
       "<Figure size 864x432 with 1 Axes>"
      ]
     },
     "metadata": {
      "needs_background": "light"
     },
     "output_type": "display_data"
    }
   ],
   "source": [
    "city = user['city'].value_counts()\n",
    "city.plot(kind='barh', x='city', ylim=(0,300), style = 'o-', figsize=(12, 6))\n",
    "plt.xlabel(\"Название города\")\n",
    "plt.ylabel(\"Частота встречаемости\")"
   ]
  },
  {
   "cell_type": "markdown",
   "id": "5edaaad9",
   "metadata": {},
   "source": [
    "#### соотношение пользователей с подпиской и без подписки"
   ]
  },
  {
   "cell_type": "code",
   "execution_count": 18,
   "id": "01d69bb1",
   "metadata": {},
   "outputs": [
    {
     "data": {
      "text/plain": [
       "<AxesSubplot:>"
      ]
     },
     "execution_count": 18,
     "metadata": {},
     "output_type": "execute_result"
    },
    {
     "data": {
      "image/png": "[encoded data removed]",
      "text/plain": [
       "<Figure size 432x288 with 1 Axes>"
      ]
     },
     "metadata": {
      "needs_background": "light"
     },
     "output_type": "display_data"
    }
   ],
   "source": [
    "user['subscription_type']. hist(bins=5, xrot=90)"
   ]
  },
  {
   "cell_type": "markdown",
   "id": "6e12a1eb",
   "metadata": {},
   "source": [
    "пользователей без подписки осказалось больше"
   ]
  },
  {
   "cell_type": "markdown",
   "id": "ccf335d8",
   "metadata": {},
   "source": [
    "#### возраст пользователей"
   ]
  },
  {
   "cell_type": "code",
   "execution_count": 19,
   "id": "adf13ce0",
   "metadata": {},
   "outputs": [
    {
     "data": {
      "text/plain": [
       "<AxesSubplot:>"
      ]
     },
     "execution_count": 19,
     "metadata": {},
     "output_type": "execute_result"
    },
    {
     "data": {
      "image/png": "[encoded data removed]",
      "text/plain": [
       "<Figure size 432x288 with 1 Axes>"
      ]
     },
     "metadata": {
      "needs_background": "light"
     },
     "output_type": "display_data"
    }
   ],
   "source": [
    "user['age'].hist(bins=70, xrot = 90)"
   ]
  },
  {
   "cell_type": "markdown",
   "id": "76cba17f",
   "metadata": {},
   "source": [
    "большее количество пользователей в возрасет 25 лет "
   ]
  },
  {
   "cell_type": "markdown",
   "id": "be1089c8",
   "metadata": {},
   "source": [
    "####  расстояние, которое пользователь преодолел за одну поездку"
   ]
  },
  {
   "cell_type": "code",
   "execution_count": 20,
   "id": "1220d247",
   "metadata": {},
   "outputs": [
    {
     "data": {
      "text/plain": [
       "<AxesSubplot:>"
      ]
     },
     "execution_count": 20,
     "metadata": {},
     "output_type": "execute_result"
    },
    {
     "data": {
      "image/png": "[encoded data removed]",
      "text/plain": [
       "<Figure size 432x288 with 1 Axes>"
      ]
     },
     "metadata": {
      "needs_background": "light"
     },
     "output_type": "display_data"
    }
   ],
   "source": [
    "ride['distance'].hist(bins=200, xrot=90)"
   ]
  },
  {
   "cell_type": "markdown",
   "id": "0c070ea9",
   "metadata": {},
   "source": [
    "самокатами чаще всего пользуются для поездок от 2,5 км до 4 км"
   ]
  },
  {
   "cell_type": "markdown",
   "id": "03278ab6",
   "metadata": {},
   "source": [
    "####  продолжительность поездок"
   ]
  },
  {
   "cell_type": "code",
   "execution_count": 21,
   "id": "646443a8",
   "metadata": {},
   "outputs": [
    {
     "data": {
      "text/plain": [
       "<AxesSubplot:>"
      ]
     },
     "execution_count": 21,
     "metadata": {},
     "output_type": "execute_result"
    },
    {
     "data": {
      "image/png": "[encoded data removed]",
      "text/plain": [
       "<Figure size 432x288 with 1 Axes>"
      ]
     },
     "metadata": {
      "needs_background": "light"
     },
     "output_type": "display_data"
    }
   ],
   "source": [
    "ride['duration'].hist(bins=100, xrot=90)"
   ]
  },
  {
   "cell_type": "code",
   "execution_count": 22,
   "id": "aeff7629",
   "metadata": {},
   "outputs": [
    {
     "data": {
      "text/plain": [
       "<AxesSubplot:>"
      ]
     },
     "execution_count": 22,
     "metadata": {},
     "output_type": "execute_result"
    },
    {
     "data": {
      "image/png": "[encoded data removed]",
      "text/plain": [
       "<Figure size 432x288 with 1 Axes>"
      ]
     },
     "metadata": {
      "needs_background": "light"
     },
     "output_type": "display_data"
    }
   ],
   "source": [
    "ride['duration'].hist(bins=10, xrot=90)"
   ]
  },
  {
   "cell_type": "markdown",
   "id": "32ae001d",
   "metadata": {},
   "source": [
    "чаще всего поездка длится от 10 до 20 минут"
   ]
  },
  {
   "cell_type": "markdown",
   "id": "4ef51331",
   "metadata": {},
   "source": [
    "### Объединение данных"
   ]
  },
  {
   "cell_type": "markdown",
   "id": "8e9773e2",
   "metadata": {},
   "source": [
    "#### Объединим данные о пользователях, поездках и подписках в один датафрейм.\n"
   ]
  },
  {
   "cell_type": "code",
   "execution_count": 23,
   "id": "7fa225c7",
   "metadata": {},
   "outputs": [
    {
     "data": {
      "text/html": [
       "<div>\n",
       "<style scoped>\n",
       "    .dataframe tbody tr th:only-of-type {\n",
       "        vertical-align: middle;\n",
       "    }\n",
       "\n",
       "    .dataframe tbody tr th {\n",
       "        vertical-align: top;\n",
       "    }\n",
       "\n",
       "    .dataframe thead th {\n",
       "        text-align: right;\n",
       "    }\n",
       "</style>\n",
       "<table border=\"1\" class=\"dataframe\">\n",
       "  <thead>\n",
       "    <tr style=\"text-align: right;\">\n",
       "      <th></th>\n",
       "      <th>user_id</th>\n",
       "      <th>name</th>\n",
       "      <th>age</th>\n",
       "      <th>city</th>\n",
       "      <th>subscription_type</th>\n",
       "      <th>distance</th>\n",
       "      <th>duration</th>\n",
       "      <th>date</th>\n",
       "      <th>date_month</th>\n",
       "    </tr>\n",
       "  </thead>\n",
       "  <tbody>\n",
       "    <tr>\n",
       "      <th>0</th>\n",
       "      <td>1</td>\n",
       "      <td>Кира</td>\n",
       "      <td>22</td>\n",
       "      <td>Тюмень</td>\n",
       "      <td>ultra</td>\n",
       "      <td>4409.919140</td>\n",
       "      <td>25.599769</td>\n",
       "      <td>2021-01-01</td>\n",
       "      <td>1</td>\n",
       "    </tr>\n",
       "    <tr>\n",
       "      <th>1</th>\n",
       "      <td>1</td>\n",
       "      <td>Кира</td>\n",
       "      <td>22</td>\n",
       "      <td>Тюмень</td>\n",
       "      <td>ultra</td>\n",
       "      <td>2617.592153</td>\n",
       "      <td>15.816871</td>\n",
       "      <td>2021-01-18</td>\n",
       "      <td>1</td>\n",
       "    </tr>\n",
       "    <tr>\n",
       "      <th>2</th>\n",
       "      <td>1</td>\n",
       "      <td>Кира</td>\n",
       "      <td>22</td>\n",
       "      <td>Тюмень</td>\n",
       "      <td>ultra</td>\n",
       "      <td>754.159807</td>\n",
       "      <td>6.232113</td>\n",
       "      <td>2021-04-20</td>\n",
       "      <td>4</td>\n",
       "    </tr>\n",
       "    <tr>\n",
       "      <th>3</th>\n",
       "      <td>1</td>\n",
       "      <td>Кира</td>\n",
       "      <td>22</td>\n",
       "      <td>Тюмень</td>\n",
       "      <td>ultra</td>\n",
       "      <td>2694.783254</td>\n",
       "      <td>18.511000</td>\n",
       "      <td>2021-08-11</td>\n",
       "      <td>8</td>\n",
       "    </tr>\n",
       "    <tr>\n",
       "      <th>4</th>\n",
       "      <td>1</td>\n",
       "      <td>Кира</td>\n",
       "      <td>22</td>\n",
       "      <td>Тюмень</td>\n",
       "      <td>ultra</td>\n",
       "      <td>4028.687306</td>\n",
       "      <td>26.265803</td>\n",
       "      <td>2021-08-28</td>\n",
       "      <td>8</td>\n",
       "    </tr>\n",
       "  </tbody>\n",
       "</table>\n",
       "</div>"
      ],
      "text/plain": [
       "   user_id  name  age    city subscription_type     distance   duration  \\\n",
       "0        1  Кира   22  Тюмень             ultra  4409.919140  25.599769   \n",
       "1        1  Кира   22  Тюмень             ultra  2617.592153  15.816871   \n",
       "2        1  Кира   22  Тюмень             ultra   754.159807   6.232113   \n",
       "3        1  Кира   22  Тюмень             ultra  2694.783254  18.511000   \n",
       "4        1  Кира   22  Тюмень             ultra  4028.687306  26.265803   \n",
       "\n",
       "        date  date_month  \n",
       "0 2021-01-01           1  \n",
       "1 2021-01-18           1  \n",
       "2 2021-04-20           4  \n",
       "3 2021-08-11           8  \n",
       "4 2021-08-28           8  "
      ]
     },
     "execution_count": 23,
     "metadata": {},
     "output_type": "execute_result"
    }
   ],
   "source": [
    "data_1 = user.merge(ride, how='left')\n",
    "data_1.head()"
   ]
  },
  {
   "cell_type": "code",
   "execution_count": 24,
   "id": "94009285",
   "metadata": {},
   "outputs": [
    {
     "data": {
      "text/html": [
       "<div>\n",
       "<style scoped>\n",
       "    .dataframe tbody tr th:only-of-type {\n",
       "        vertical-align: middle;\n",
       "    }\n",
       "\n",
       "    .dataframe tbody tr th {\n",
       "        vertical-align: top;\n",
       "    }\n",
       "\n",
       "    .dataframe thead th {\n",
       "        text-align: right;\n",
       "    }\n",
       "</style>\n",
       "<table border=\"1\" class=\"dataframe\">\n",
       "  <thead>\n",
       "    <tr style=\"text-align: right;\">\n",
       "      <th></th>\n",
       "      <th>user_id</th>\n",
       "      <th>name</th>\n",
       "      <th>age</th>\n",
       "      <th>city</th>\n",
       "      <th>subscription_type</th>\n",
       "      <th>distance</th>\n",
       "      <th>duration</th>\n",
       "      <th>date</th>\n",
       "      <th>date_month</th>\n",
       "      <th>minute_price</th>\n",
       "      <th>start_ride_price</th>\n",
       "      <th>subscription_fee</th>\n",
       "    </tr>\n",
       "  </thead>\n",
       "  <tbody>\n",
       "    <tr>\n",
       "      <th>0</th>\n",
       "      <td>1</td>\n",
       "      <td>Кира</td>\n",
       "      <td>22</td>\n",
       "      <td>Тюмень</td>\n",
       "      <td>ultra</td>\n",
       "      <td>4410.0</td>\n",
       "      <td>26.0</td>\n",
       "      <td>2021-01-01</td>\n",
       "      <td>1</td>\n",
       "      <td>6</td>\n",
       "      <td>0</td>\n",
       "      <td>199</td>\n",
       "    </tr>\n",
       "    <tr>\n",
       "      <th>1</th>\n",
       "      <td>1</td>\n",
       "      <td>Кира</td>\n",
       "      <td>22</td>\n",
       "      <td>Тюмень</td>\n",
       "      <td>ultra</td>\n",
       "      <td>2618.0</td>\n",
       "      <td>16.0</td>\n",
       "      <td>2021-01-18</td>\n",
       "      <td>1</td>\n",
       "      <td>6</td>\n",
       "      <td>0</td>\n",
       "      <td>199</td>\n",
       "    </tr>\n",
       "    <tr>\n",
       "      <th>2</th>\n",
       "      <td>1</td>\n",
       "      <td>Кира</td>\n",
       "      <td>22</td>\n",
       "      <td>Тюмень</td>\n",
       "      <td>ultra</td>\n",
       "      <td>755.0</td>\n",
       "      <td>7.0</td>\n",
       "      <td>2021-04-20</td>\n",
       "      <td>4</td>\n",
       "      <td>6</td>\n",
       "      <td>0</td>\n",
       "      <td>199</td>\n",
       "    </tr>\n",
       "    <tr>\n",
       "      <th>3</th>\n",
       "      <td>1</td>\n",
       "      <td>Кира</td>\n",
       "      <td>22</td>\n",
       "      <td>Тюмень</td>\n",
       "      <td>ultra</td>\n",
       "      <td>2695.0</td>\n",
       "      <td>19.0</td>\n",
       "      <td>2021-08-11</td>\n",
       "      <td>8</td>\n",
       "      <td>6</td>\n",
       "      <td>0</td>\n",
       "      <td>199</td>\n",
       "    </tr>\n",
       "    <tr>\n",
       "      <th>4</th>\n",
       "      <td>1</td>\n",
       "      <td>Кира</td>\n",
       "      <td>22</td>\n",
       "      <td>Тюмень</td>\n",
       "      <td>ultra</td>\n",
       "      <td>4029.0</td>\n",
       "      <td>27.0</td>\n",
       "      <td>2021-08-28</td>\n",
       "      <td>8</td>\n",
       "      <td>6</td>\n",
       "      <td>0</td>\n",
       "      <td>199</td>\n",
       "    </tr>\n",
       "  </tbody>\n",
       "</table>\n",
       "</div>"
      ],
      "text/plain": [
       "   user_id  name  age    city subscription_type  distance  duration  \\\n",
       "0        1  Кира   22  Тюмень             ultra    4410.0      26.0   \n",
       "1        1  Кира   22  Тюмень             ultra    2618.0      16.0   \n",
       "2        1  Кира   22  Тюмень             ultra     755.0       7.0   \n",
       "3        1  Кира   22  Тюмень             ultra    2695.0      19.0   \n",
       "4        1  Кира   22  Тюмень             ultra    4029.0      27.0   \n",
       "\n",
       "        date  date_month  minute_price  start_ride_price  subscription_fee  \n",
       "0 2021-01-01           1             6                 0               199  \n",
       "1 2021-01-18           1             6                 0               199  \n",
       "2 2021-04-20           4             6                 0               199  \n",
       "3 2021-08-11           8             6                 0               199  \n",
       "4 2021-08-28           8             6                 0               199  "
      ]
     },
     "execution_count": 24,
     "metadata": {},
     "output_type": "execute_result"
    }
   ],
   "source": [
    "data = data_1.merge(subscription, how='left')\n",
    "data['duration'] = np.ceil(data['duration']) \n",
    "data['distance'] = np.ceil(data['distance'])\n",
    "\n",
    "data.head()"
   ]
  },
  {
   "cell_type": "code",
   "execution_count": 25,
   "id": "04a08599",
   "metadata": {},
   "outputs": [
    {
     "data": {
      "text/plain": [
       "user_id              0\n",
       "name                 0\n",
       "age                  0\n",
       "city                 0\n",
       "subscription_type    0\n",
       "distance             0\n",
       "duration             0\n",
       "date                 0\n",
       "date_month           0\n",
       "minute_price         0\n",
       "start_ride_price     0\n",
       "subscription_fee     0\n",
       "dtype: int64"
      ]
     },
     "execution_count": 25,
     "metadata": {},
     "output_type": "execute_result"
    }
   ],
   "source": [
    "data.isna().sum()"
   ]
  },
  {
   "cell_type": "markdown",
   "id": "0420d2b6",
   "metadata": {},
   "source": [
    "#### Создаю ещё 2 датафрейма из датафрейма, созданного на этапе 4.1. "
   ]
  },
  {
   "cell_type": "markdown",
   "id": "5c90e98b",
   "metadata": {},
   "source": [
    "пользователи с подпиской:"
   ]
  },
  {
   "cell_type": "code",
   "execution_count": 26,
   "id": "34432b8f",
   "metadata": {},
   "outputs": [
    {
     "data": {
      "text/html": [
       "<div>\n",
       "<style scoped>\n",
       "    .dataframe tbody tr th:only-of-type {\n",
       "        vertical-align: middle;\n",
       "    }\n",
       "\n",
       "    .dataframe tbody tr th {\n",
       "        vertical-align: top;\n",
       "    }\n",
       "\n",
       "    .dataframe thead th {\n",
       "        text-align: right;\n",
       "    }\n",
       "</style>\n",
       "<table border=\"1\" class=\"dataframe\">\n",
       "  <thead>\n",
       "    <tr style=\"text-align: right;\">\n",
       "      <th></th>\n",
       "      <th>user_id</th>\n",
       "      <th>name</th>\n",
       "      <th>age</th>\n",
       "      <th>city</th>\n",
       "      <th>subscription_type</th>\n",
       "      <th>distance</th>\n",
       "      <th>duration</th>\n",
       "      <th>date</th>\n",
       "      <th>date_month</th>\n",
       "      <th>minute_price</th>\n",
       "      <th>start_ride_price</th>\n",
       "      <th>subscription_fee</th>\n",
       "    </tr>\n",
       "  </thead>\n",
       "  <tbody>\n",
       "    <tr>\n",
       "      <th>6500</th>\n",
       "      <td>700</td>\n",
       "      <td>Айдар</td>\n",
       "      <td>22</td>\n",
       "      <td>Омск</td>\n",
       "      <td>free</td>\n",
       "      <td>2516.0</td>\n",
       "      <td>15.0</td>\n",
       "      <td>2021-01-02</td>\n",
       "      <td>1</td>\n",
       "      <td>8</td>\n",
       "      <td>50</td>\n",
       "      <td>0</td>\n",
       "    </tr>\n",
       "    <tr>\n",
       "      <th>6501</th>\n",
       "      <td>700</td>\n",
       "      <td>Айдар</td>\n",
       "      <td>22</td>\n",
       "      <td>Омск</td>\n",
       "      <td>free</td>\n",
       "      <td>847.0</td>\n",
       "      <td>17.0</td>\n",
       "      <td>2021-02-01</td>\n",
       "      <td>2</td>\n",
       "      <td>8</td>\n",
       "      <td>50</td>\n",
       "      <td>0</td>\n",
       "    </tr>\n",
       "    <tr>\n",
       "      <th>6502</th>\n",
       "      <td>700</td>\n",
       "      <td>Айдар</td>\n",
       "      <td>22</td>\n",
       "      <td>Омск</td>\n",
       "      <td>free</td>\n",
       "      <td>4005.0</td>\n",
       "      <td>21.0</td>\n",
       "      <td>2021-02-04</td>\n",
       "      <td>2</td>\n",
       "      <td>8</td>\n",
       "      <td>50</td>\n",
       "      <td>0</td>\n",
       "    </tr>\n",
       "    <tr>\n",
       "      <th>6503</th>\n",
       "      <td>700</td>\n",
       "      <td>Айдар</td>\n",
       "      <td>22</td>\n",
       "      <td>Омск</td>\n",
       "      <td>free</td>\n",
       "      <td>1206.0</td>\n",
       "      <td>10.0</td>\n",
       "      <td>2021-02-10</td>\n",
       "      <td>2</td>\n",
       "      <td>8</td>\n",
       "      <td>50</td>\n",
       "      <td>0</td>\n",
       "    </tr>\n",
       "    <tr>\n",
       "      <th>6504</th>\n",
       "      <td>700</td>\n",
       "      <td>Айдар</td>\n",
       "      <td>22</td>\n",
       "      <td>Омск</td>\n",
       "      <td>free</td>\n",
       "      <td>3048.0</td>\n",
       "      <td>18.0</td>\n",
       "      <td>2021-02-14</td>\n",
       "      <td>2</td>\n",
       "      <td>8</td>\n",
       "      <td>50</td>\n",
       "      <td>0</td>\n",
       "    </tr>\n",
       "  </tbody>\n",
       "</table>\n",
       "</div>"
      ],
      "text/plain": [
       "      user_id   name  age  city subscription_type  distance  duration  \\\n",
       "6500      700  Айдар   22  Омск              free    2516.0      15.0   \n",
       "6501      700  Айдар   22  Омск              free     847.0      17.0   \n",
       "6502      700  Айдар   22  Омск              free    4005.0      21.0   \n",
       "6503      700  Айдар   22  Омск              free    1206.0      10.0   \n",
       "6504      700  Айдар   22  Омск              free    3048.0      18.0   \n",
       "\n",
       "           date  date_month  minute_price  start_ride_price  subscription_fee  \n",
       "6500 2021-01-02           1             8                50                 0  \n",
       "6501 2021-02-01           2             8                50                 0  \n",
       "6502 2021-02-04           2             8                50                 0  \n",
       "6503 2021-02-10           2             8                50                 0  \n",
       "6504 2021-02-14           2             8                50                 0  "
      ]
     },
     "execution_count": 26,
     "metadata": {},
     "output_type": "execute_result"
    }
   ],
   "source": [
    "data_free = data[data['subscription_type'].isin(['free'])]\n",
    "data_free.head()"
   ]
  },
  {
   "cell_type": "code",
   "execution_count": 27,
   "id": "66d9d1d4",
   "metadata": {},
   "outputs": [
    {
     "data": {
      "text/html": [
       "<div>\n",
       "<style scoped>\n",
       "    .dataframe tbody tr th:only-of-type {\n",
       "        vertical-align: middle;\n",
       "    }\n",
       "\n",
       "    .dataframe tbody tr th {\n",
       "        vertical-align: top;\n",
       "    }\n",
       "\n",
       "    .dataframe thead th {\n",
       "        text-align: right;\n",
       "    }\n",
       "</style>\n",
       "<table border=\"1\" class=\"dataframe\">\n",
       "  <thead>\n",
       "    <tr style=\"text-align: right;\">\n",
       "      <th></th>\n",
       "      <th>user_id</th>\n",
       "      <th>name</th>\n",
       "      <th>age</th>\n",
       "      <th>city</th>\n",
       "      <th>subscription_type</th>\n",
       "      <th>distance</th>\n",
       "      <th>duration</th>\n",
       "      <th>date</th>\n",
       "      <th>date_month</th>\n",
       "      <th>minute_price</th>\n",
       "      <th>start_ride_price</th>\n",
       "      <th>subscription_fee</th>\n",
       "    </tr>\n",
       "  </thead>\n",
       "  <tbody>\n",
       "    <tr>\n",
       "      <th>0</th>\n",
       "      <td>1</td>\n",
       "      <td>Кира</td>\n",
       "      <td>22</td>\n",
       "      <td>Тюмень</td>\n",
       "      <td>ultra</td>\n",
       "      <td>4410.0</td>\n",
       "      <td>26.0</td>\n",
       "      <td>2021-01-01</td>\n",
       "      <td>1</td>\n",
       "      <td>6</td>\n",
       "      <td>0</td>\n",
       "      <td>199</td>\n",
       "    </tr>\n",
       "    <tr>\n",
       "      <th>1</th>\n",
       "      <td>1</td>\n",
       "      <td>Кира</td>\n",
       "      <td>22</td>\n",
       "      <td>Тюмень</td>\n",
       "      <td>ultra</td>\n",
       "      <td>2618.0</td>\n",
       "      <td>16.0</td>\n",
       "      <td>2021-01-18</td>\n",
       "      <td>1</td>\n",
       "      <td>6</td>\n",
       "      <td>0</td>\n",
       "      <td>199</td>\n",
       "    </tr>\n",
       "    <tr>\n",
       "      <th>2</th>\n",
       "      <td>1</td>\n",
       "      <td>Кира</td>\n",
       "      <td>22</td>\n",
       "      <td>Тюмень</td>\n",
       "      <td>ultra</td>\n",
       "      <td>755.0</td>\n",
       "      <td>7.0</td>\n",
       "      <td>2021-04-20</td>\n",
       "      <td>4</td>\n",
       "      <td>6</td>\n",
       "      <td>0</td>\n",
       "      <td>199</td>\n",
       "    </tr>\n",
       "    <tr>\n",
       "      <th>3</th>\n",
       "      <td>1</td>\n",
       "      <td>Кира</td>\n",
       "      <td>22</td>\n",
       "      <td>Тюмень</td>\n",
       "      <td>ultra</td>\n",
       "      <td>2695.0</td>\n",
       "      <td>19.0</td>\n",
       "      <td>2021-08-11</td>\n",
       "      <td>8</td>\n",
       "      <td>6</td>\n",
       "      <td>0</td>\n",
       "      <td>199</td>\n",
       "    </tr>\n",
       "    <tr>\n",
       "      <th>4</th>\n",
       "      <td>1</td>\n",
       "      <td>Кира</td>\n",
       "      <td>22</td>\n",
       "      <td>Тюмень</td>\n",
       "      <td>ultra</td>\n",
       "      <td>4029.0</td>\n",
       "      <td>27.0</td>\n",
       "      <td>2021-08-28</td>\n",
       "      <td>8</td>\n",
       "      <td>6</td>\n",
       "      <td>0</td>\n",
       "      <td>199</td>\n",
       "    </tr>\n",
       "  </tbody>\n",
       "</table>\n",
       "</div>"
      ],
      "text/plain": [
       "   user_id  name  age    city subscription_type  distance  duration  \\\n",
       "0        1  Кира   22  Тюмень             ultra    4410.0      26.0   \n",
       "1        1  Кира   22  Тюмень             ultra    2618.0      16.0   \n",
       "2        1  Кира   22  Тюмень             ultra     755.0       7.0   \n",
       "3        1  Кира   22  Тюмень             ultra    2695.0      19.0   \n",
       "4        1  Кира   22  Тюмень             ultra    4029.0      27.0   \n",
       "\n",
       "        date  date_month  minute_price  start_ride_price  subscription_fee  \n",
       "0 2021-01-01           1             6                 0               199  \n",
       "1 2021-01-18           1             6                 0               199  \n",
       "2 2021-04-20           4             6                 0               199  \n",
       "3 2021-08-11           8             6                 0               199  \n",
       "4 2021-08-28           8             6                 0               199  "
      ]
     },
     "execution_count": 27,
     "metadata": {},
     "output_type": "execute_result"
    }
   ],
   "source": [
    "data_ultra = data[data['subscription_type'].isin(['ultra'])]\n",
    "data_ultra.head()"
   ]
  },
  {
   "cell_type": "markdown",
   "id": "3637814f",
   "metadata": {},
   "source": [
    "####  Визуализирую информацию о расстоянии и времени поездок для пользователей обеих категорий."
   ]
  },
  {
   "cell_type": "code",
   "execution_count": 28,
   "id": "be27fd4f",
   "metadata": {},
   "outputs": [
    {
     "data": {
      "image/png": "[encoded data removed]",
      "text/plain": [
       "<Figure size 1440x360 with 1 Axes>"
      ]
     },
     "metadata": {
      "needs_background": "light"
     },
     "output_type": "display_data"
    }
   ],
   "source": [
    "plt.figure(figsize=(20,5))\n",
    "plt.hist(data_free['distance'], bins = 100)\n",
    "plt.title('Расстояние поездок пользователей без подписки')\n",
    "plt.ylabel('Количество')\n",
    "plt.xlabel('Дистанция')\n",
    "plt.show()"
   ]
  },
  {
   "cell_type": "markdown",
   "id": "650cb66b",
   "metadata": {},
   "source": [
    "Пик поездок приходится на дистанцию от 2.5 до 3.5 км"
   ]
  },
  {
   "cell_type": "code",
   "execution_count": 29,
   "id": "c20024e6",
   "metadata": {},
   "outputs": [
    {
     "data": {
      "image/png": "[encoded data removed]",
      "text/plain": [
       "<Figure size 1440x360 with 1 Axes>"
      ]
     },
     "metadata": {
      "needs_background": "light"
     },
     "output_type": "display_data"
    }
   ],
   "source": [
    "plt.figure(figsize=(20,5))\n",
    "plt.hist(data_free['duration'], bins = 100)\n",
    "plt.title('Продолжительность поездки клиентов без подписки')\n",
    "plt.ylabel('Количество')\n",
    "plt.xlabel('Время в минутах')\n",
    "plt.show()"
   ]
  },
  {
   "cell_type": "markdown",
   "id": "9cc62625",
   "metadata": {},
   "source": [
    "Из графиков можно сказать, что пик продолжительности поездки клиента без подписки приходится на 12-25 минут, с наибольшем количеством поездок на расстояния от 2.5 до 3.5 км"
   ]
  },
  {
   "cell_type": "code",
   "execution_count": 30,
   "id": "ccb05032",
   "metadata": {},
   "outputs": [
    {
     "data": {
      "image/png": "[encoded data removed]",
      "text/plain": [
       "<Figure size 1440x360 with 1 Axes>"
      ]
     },
     "metadata": {
      "needs_background": "light"
     },
     "output_type": "display_data"
    }
   ],
   "source": [
    "plt.figure(figsize=(20,5))\n",
    "plt.hist(data_ultra['distance'], bins = 100)\n",
    "plt.title('Расстояние поездок пользователей c подпиской')\n",
    "plt.ylabel('Количество')\n",
    "plt.xlabel('Дистанция')\n",
    "plt.show()"
   ]
  },
  {
   "cell_type": "code",
   "execution_count": 31,
   "id": "b1585711",
   "metadata": {},
   "outputs": [
    {
     "data": {
      "image/png": "[encoded data removed]",
      "text/plain": [
       "<Figure size 1440x360 with 1 Axes>"
      ]
     },
     "metadata": {
      "needs_background": "light"
     },
     "output_type": "display_data"
    }
   ],
   "source": [
    "plt.figure(figsize=(20,5))\n",
    "plt.hist(data_ultra['duration'], bins = 100)\n",
    "plt.title('Продолжительность поездки клиентов без подписки')\n",
    "plt.ylabel('Количество')\n",
    "plt.xlabel('Время в минутах')\n",
    "plt.show()"
   ]
  },
  {
   "cell_type": "markdown",
   "id": "90410ff7",
   "metadata": {},
   "source": [
    "из графиков можно сказать, что продолжительность поездки клиента с подпиской занимает 12-23 минут, с наибольшим количеством поездок на дистанции 2.8 - 3.4 км"
   ]
  },
  {
   "cell_type": "markdown",
   "id": "402d620f",
   "metadata": {},
   "source": [
    "### Подсчёт выручки"
   ]
  },
  {
   "cell_type": "markdown",
   "id": "81867a94",
   "metadata": {},
   "source": [
    "####  Создаю датафрейм с агрегированными данными о поездках на основе датафрейма с объединёнными данными из шага 4: найдём суммарное расстояние, количество поездок и суммарное время для каждого пользователя за каждый месяц."
   ]
  },
  {
   "cell_type": "code",
   "execution_count": 32,
   "id": "d570e787",
   "metadata": {},
   "outputs": [
    {
     "data": {
      "text/html": [
       "<div>\n",
       "<style scoped>\n",
       "    .dataframe tbody tr th:only-of-type {\n",
       "        vertical-align: middle;\n",
       "    }\n",
       "\n",
       "    .dataframe tbody tr th {\n",
       "        vertical-align: top;\n",
       "    }\n",
       "\n",
       "    .dataframe thead th {\n",
       "        text-align: right;\n",
       "    }\n",
       "</style>\n",
       "<table border=\"1\" class=\"dataframe\">\n",
       "  <thead>\n",
       "    <tr style=\"text-align: right;\">\n",
       "      <th></th>\n",
       "      <th></th>\n",
       "      <th>distance</th>\n",
       "      <th>duration</th>\n",
       "      <th>minute_price</th>\n",
       "      <th>start_ride_price</th>\n",
       "      <th>subscription_fee</th>\n",
       "      <th>user_id</th>\n",
       "    </tr>\n",
       "    <tr>\n",
       "      <th>user_id</th>\n",
       "      <th>date_month</th>\n",
       "      <th></th>\n",
       "      <th></th>\n",
       "      <th></th>\n",
       "      <th></th>\n",
       "      <th></th>\n",
       "      <th></th>\n",
       "    </tr>\n",
       "  </thead>\n",
       "  <tbody>\n",
       "    <tr>\n",
       "      <th rowspan=\"6\" valign=\"top\">1</th>\n",
       "      <th>1</th>\n",
       "      <td>7028.0</td>\n",
       "      <td>42.0</td>\n",
       "      <td>6</td>\n",
       "      <td>0</td>\n",
       "      <td>199</td>\n",
       "      <td>2</td>\n",
       "    </tr>\n",
       "    <tr>\n",
       "      <th>4</th>\n",
       "      <td>755.0</td>\n",
       "      <td>7.0</td>\n",
       "      <td>6</td>\n",
       "      <td>0</td>\n",
       "      <td>199</td>\n",
       "      <td>1</td>\n",
       "    </tr>\n",
       "    <tr>\n",
       "      <th>8</th>\n",
       "      <td>6724.0</td>\n",
       "      <td>46.0</td>\n",
       "      <td>6</td>\n",
       "      <td>0</td>\n",
       "      <td>199</td>\n",
       "      <td>2</td>\n",
       "    </tr>\n",
       "    <tr>\n",
       "      <th>10</th>\n",
       "      <td>5811.0</td>\n",
       "      <td>32.0</td>\n",
       "      <td>6</td>\n",
       "      <td>0</td>\n",
       "      <td>199</td>\n",
       "      <td>2</td>\n",
       "    </tr>\n",
       "    <tr>\n",
       "      <th>11</th>\n",
       "      <td>7005.0</td>\n",
       "      <td>56.0</td>\n",
       "      <td>6</td>\n",
       "      <td>0</td>\n",
       "      <td>199</td>\n",
       "      <td>3</td>\n",
       "    </tr>\n",
       "    <tr>\n",
       "      <th>12</th>\n",
       "      <td>6753.0</td>\n",
       "      <td>28.0</td>\n",
       "      <td>6</td>\n",
       "      <td>0</td>\n",
       "      <td>199</td>\n",
       "      <td>2</td>\n",
       "    </tr>\n",
       "    <tr>\n",
       "      <th rowspan=\"7\" valign=\"top\">2</th>\n",
       "      <th>3</th>\n",
       "      <td>10190.0</td>\n",
       "      <td>63.0</td>\n",
       "      <td>6</td>\n",
       "      <td>0</td>\n",
       "      <td>199</td>\n",
       "      <td>3</td>\n",
       "    </tr>\n",
       "    <tr>\n",
       "      <th>4</th>\n",
       "      <td>6165.0</td>\n",
       "      <td>40.0</td>\n",
       "      <td>6</td>\n",
       "      <td>0</td>\n",
       "      <td>199</td>\n",
       "      <td>2</td>\n",
       "    </tr>\n",
       "    <tr>\n",
       "      <th>6</th>\n",
       "      <td>3256.0</td>\n",
       "      <td>14.0</td>\n",
       "      <td>6</td>\n",
       "      <td>0</td>\n",
       "      <td>199</td>\n",
       "      <td>1</td>\n",
       "    </tr>\n",
       "    <tr>\n",
       "      <th>7</th>\n",
       "      <td>6781.0</td>\n",
       "      <td>48.0</td>\n",
       "      <td>6</td>\n",
       "      <td>0</td>\n",
       "      <td>199</td>\n",
       "      <td>2</td>\n",
       "    </tr>\n",
       "    <tr>\n",
       "      <th>8</th>\n",
       "      <td>924.0</td>\n",
       "      <td>7.0</td>\n",
       "      <td>6</td>\n",
       "      <td>0</td>\n",
       "      <td>199</td>\n",
       "      <td>1</td>\n",
       "    </tr>\n",
       "    <tr>\n",
       "      <th>10</th>\n",
       "      <td>2825.0</td>\n",
       "      <td>19.0</td>\n",
       "      <td>6</td>\n",
       "      <td>0</td>\n",
       "      <td>199</td>\n",
       "      <td>1</td>\n",
       "    </tr>\n",
       "    <tr>\n",
       "      <th>12</th>\n",
       "      <td>3829.0</td>\n",
       "      <td>12.0</td>\n",
       "      <td>6</td>\n",
       "      <td>0</td>\n",
       "      <td>199</td>\n",
       "      <td>1</td>\n",
       "    </tr>\n",
       "    <tr>\n",
       "      <th rowspan=\"7\" valign=\"top\">3</th>\n",
       "      <th>1</th>\n",
       "      <td>3062.0</td>\n",
       "      <td>13.0</td>\n",
       "      <td>6</td>\n",
       "      <td>0</td>\n",
       "      <td>199</td>\n",
       "      <td>1</td>\n",
       "    </tr>\n",
       "    <tr>\n",
       "      <th>2</th>\n",
       "      <td>5422.0</td>\n",
       "      <td>39.0</td>\n",
       "      <td>6</td>\n",
       "      <td>0</td>\n",
       "      <td>199</td>\n",
       "      <td>2</td>\n",
       "    </tr>\n",
       "    <tr>\n",
       "      <th>4</th>\n",
       "      <td>2957.0</td>\n",
       "      <td>21.0</td>\n",
       "      <td>6</td>\n",
       "      <td>0</td>\n",
       "      <td>199</td>\n",
       "      <td>1</td>\n",
       "    </tr>\n",
       "    <tr>\n",
       "      <th>5</th>\n",
       "      <td>9065.0</td>\n",
       "      <td>63.0</td>\n",
       "      <td>6</td>\n",
       "      <td>0</td>\n",
       "      <td>199</td>\n",
       "      <td>3</td>\n",
       "    </tr>\n",
       "    <tr>\n",
       "      <th>7</th>\n",
       "      <td>10921.0</td>\n",
       "      <td>67.0</td>\n",
       "      <td>6</td>\n",
       "      <td>0</td>\n",
       "      <td>199</td>\n",
       "      <td>3</td>\n",
       "    </tr>\n",
       "    <tr>\n",
       "      <th>9</th>\n",
       "      <td>2892.0</td>\n",
       "      <td>23.0</td>\n",
       "      <td>6</td>\n",
       "      <td>0</td>\n",
       "      <td>199</td>\n",
       "      <td>1</td>\n",
       "    </tr>\n",
       "    <tr>\n",
       "      <th>12</th>\n",
       "      <td>2594.0</td>\n",
       "      <td>13.0</td>\n",
       "      <td>6</td>\n",
       "      <td>0</td>\n",
       "      <td>199</td>\n",
       "      <td>1</td>\n",
       "    </tr>\n",
       "  </tbody>\n",
       "</table>\n",
       "</div>"
      ],
      "text/plain": [
       "                    distance  duration  minute_price  start_ride_price  \\\n",
       "user_id date_month                                                       \n",
       "1       1             7028.0      42.0             6                 0   \n",
       "        4              755.0       7.0             6                 0   \n",
       "        8             6724.0      46.0             6                 0   \n",
       "        10            5811.0      32.0             6                 0   \n",
       "        11            7005.0      56.0             6                 0   \n",
       "        12            6753.0      28.0             6                 0   \n",
       "2       3            10190.0      63.0             6                 0   \n",
       "        4             6165.0      40.0             6                 0   \n",
       "        6             3256.0      14.0             6                 0   \n",
       "        7             6781.0      48.0             6                 0   \n",
       "        8              924.0       7.0             6                 0   \n",
       "        10            2825.0      19.0             6                 0   \n",
       "        12            3829.0      12.0             6                 0   \n",
       "3       1             3062.0      13.0             6                 0   \n",
       "        2             5422.0      39.0             6                 0   \n",
       "        4             2957.0      21.0             6                 0   \n",
       "        5             9065.0      63.0             6                 0   \n",
       "        7            10921.0      67.0             6                 0   \n",
       "        9             2892.0      23.0             6                 0   \n",
       "        12            2594.0      13.0             6                 0   \n",
       "\n",
       "                    subscription_fee  user_id  \n",
       "user_id date_month                             \n",
       "1       1                        199        2  \n",
       "        4                        199        1  \n",
       "        8                        199        2  \n",
       "        10                       199        2  \n",
       "        11                       199        3  \n",
       "        12                       199        2  \n",
       "2       3                        199        3  \n",
       "        4                        199        2  \n",
       "        6                        199        1  \n",
       "        7                        199        2  \n",
       "        8                        199        1  \n",
       "        10                       199        1  \n",
       "        12                       199        1  \n",
       "3       1                        199        1  \n",
       "        2                        199        2  \n",
       "        4                        199        1  \n",
       "        5                        199        3  \n",
       "        7                        199        3  \n",
       "        9                        199        1  \n",
       "        12                       199        1  "
      ]
     },
     "execution_count": 32,
     "metadata": {},
     "output_type": "execute_result"
    }
   ],
   "source": [
    "agg_data = data.pivot_table(\n",
    "    index = ['user_id', 'date_month'], \n",
    "    values = ['distance', 'duration', 'minute_price', 'start_ride_price', 'subscription_fee', 'subscription_type'], \n",
    "    aggfunc = {'distance': 'sum', 'duration': 'sum', 'minute_price': 'median', 'start_ride_price': 'median', 'subscription_fee': 'median', 'user_id': 'count'}\n",
    ")\n",
    "agg_data.columns = ['distance', 'duration', 'minute_price',  'start_ride_price', 'subscription_fee' ,'user_id']\n",
    "agg_data.head(20)\n"
   ]
  },
  {
   "cell_type": "markdown",
   "id": "a0dda15a",
   "metadata": {},
   "source": [
    "полученные данные отображеныв таблице помесячно для каждого пользователя"
   ]
  },
  {
   "cell_type": "markdown",
   "id": "03372bf3",
   "metadata": {},
   "source": [
    "####  В этот же датафрейм добавлю столбец с помесячной выручкой, которую принёс каждый пользователь. Для этого обращаюсь к информации об условиях оплаты для подписчиков и тех, у кого нет подписки. Продолжительность каждой поездки в каждой строке исходного датафрейма для подсчёта стоимости округляется до следующего целого числа."
   ]
  },
  {
   "cell_type": "code",
   "execution_count": 33,
   "id": "cda8daff",
   "metadata": {},
   "outputs": [
    {
     "data": {
      "text/html": [
       "<div>\n",
       "<style scoped>\n",
       "    .dataframe tbody tr th:only-of-type {\n",
       "        vertical-align: middle;\n",
       "    }\n",
       "\n",
       "    .dataframe tbody tr th {\n",
       "        vertical-align: top;\n",
       "    }\n",
       "\n",
       "    .dataframe thead th {\n",
       "        text-align: right;\n",
       "    }\n",
       "</style>\n",
       "<table border=\"1\" class=\"dataframe\">\n",
       "  <thead>\n",
       "    <tr style=\"text-align: right;\">\n",
       "      <th></th>\n",
       "      <th></th>\n",
       "      <th>distance</th>\n",
       "      <th>duration</th>\n",
       "      <th>minute_price</th>\n",
       "      <th>start_ride_price</th>\n",
       "      <th>subscription_fee</th>\n",
       "      <th>user_id</th>\n",
       "      <th>monthly_revenue</th>\n",
       "    </tr>\n",
       "    <tr>\n",
       "      <th>user_id</th>\n",
       "      <th>date_month</th>\n",
       "      <th></th>\n",
       "      <th></th>\n",
       "      <th></th>\n",
       "      <th></th>\n",
       "      <th></th>\n",
       "      <th></th>\n",
       "      <th></th>\n",
       "    </tr>\n",
       "  </thead>\n",
       "  <tbody>\n",
       "    <tr>\n",
       "      <th rowspan=\"6\" valign=\"top\">1</th>\n",
       "      <th>1</th>\n",
       "      <td>7028.0</td>\n",
       "      <td>42.0</td>\n",
       "      <td>6</td>\n",
       "      <td>0</td>\n",
       "      <td>199</td>\n",
       "      <td>2</td>\n",
       "      <td>451.0</td>\n",
       "    </tr>\n",
       "    <tr>\n",
       "      <th>4</th>\n",
       "      <td>755.0</td>\n",
       "      <td>7.0</td>\n",
       "      <td>6</td>\n",
       "      <td>0</td>\n",
       "      <td>199</td>\n",
       "      <td>1</td>\n",
       "      <td>241.0</td>\n",
       "    </tr>\n",
       "    <tr>\n",
       "      <th>8</th>\n",
       "      <td>6724.0</td>\n",
       "      <td>46.0</td>\n",
       "      <td>6</td>\n",
       "      <td>0</td>\n",
       "      <td>199</td>\n",
       "      <td>2</td>\n",
       "      <td>475.0</td>\n",
       "    </tr>\n",
       "    <tr>\n",
       "      <th>10</th>\n",
       "      <td>5811.0</td>\n",
       "      <td>32.0</td>\n",
       "      <td>6</td>\n",
       "      <td>0</td>\n",
       "      <td>199</td>\n",
       "      <td>2</td>\n",
       "      <td>391.0</td>\n",
       "    </tr>\n",
       "    <tr>\n",
       "      <th>11</th>\n",
       "      <td>7005.0</td>\n",
       "      <td>56.0</td>\n",
       "      <td>6</td>\n",
       "      <td>0</td>\n",
       "      <td>199</td>\n",
       "      <td>3</td>\n",
       "      <td>535.0</td>\n",
       "    </tr>\n",
       "    <tr>\n",
       "      <th>12</th>\n",
       "      <td>6753.0</td>\n",
       "      <td>28.0</td>\n",
       "      <td>6</td>\n",
       "      <td>0</td>\n",
       "      <td>199</td>\n",
       "      <td>2</td>\n",
       "      <td>367.0</td>\n",
       "    </tr>\n",
       "    <tr>\n",
       "      <th rowspan=\"4\" valign=\"top\">2</th>\n",
       "      <th>3</th>\n",
       "      <td>10190.0</td>\n",
       "      <td>63.0</td>\n",
       "      <td>6</td>\n",
       "      <td>0</td>\n",
       "      <td>199</td>\n",
       "      <td>3</td>\n",
       "      <td>577.0</td>\n",
       "    </tr>\n",
       "    <tr>\n",
       "      <th>4</th>\n",
       "      <td>6165.0</td>\n",
       "      <td>40.0</td>\n",
       "      <td>6</td>\n",
       "      <td>0</td>\n",
       "      <td>199</td>\n",
       "      <td>2</td>\n",
       "      <td>439.0</td>\n",
       "    </tr>\n",
       "    <tr>\n",
       "      <th>6</th>\n",
       "      <td>3256.0</td>\n",
       "      <td>14.0</td>\n",
       "      <td>6</td>\n",
       "      <td>0</td>\n",
       "      <td>199</td>\n",
       "      <td>1</td>\n",
       "      <td>283.0</td>\n",
       "    </tr>\n",
       "    <tr>\n",
       "      <th>7</th>\n",
       "      <td>6781.0</td>\n",
       "      <td>48.0</td>\n",
       "      <td>6</td>\n",
       "      <td>0</td>\n",
       "      <td>199</td>\n",
       "      <td>2</td>\n",
       "      <td>487.0</td>\n",
       "    </tr>\n",
       "  </tbody>\n",
       "</table>\n",
       "</div>"
      ],
      "text/plain": [
       "                    distance  duration  minute_price  start_ride_price  \\\n",
       "user_id date_month                                                       \n",
       "1       1             7028.0      42.0             6                 0   \n",
       "        4              755.0       7.0             6                 0   \n",
       "        8             6724.0      46.0             6                 0   \n",
       "        10            5811.0      32.0             6                 0   \n",
       "        11            7005.0      56.0             6                 0   \n",
       "        12            6753.0      28.0             6                 0   \n",
       "2       3            10190.0      63.0             6                 0   \n",
       "        4             6165.0      40.0             6                 0   \n",
       "        6             3256.0      14.0             6                 0   \n",
       "        7             6781.0      48.0             6                 0   \n",
       "\n",
       "                    subscription_fee  user_id  monthly_revenue  \n",
       "user_id date_month                                              \n",
       "1       1                        199        2            451.0  \n",
       "        4                        199        1            241.0  \n",
       "        8                        199        2            475.0  \n",
       "        10                       199        2            391.0  \n",
       "        11                       199        3            535.0  \n",
       "        12                       199        2            367.0  \n",
       "2       3                        199        3            577.0  \n",
       "        4                        199        2            439.0  \n",
       "        6                        199        1            283.0  \n",
       "        7                        199        2            487.0  "
      ]
     },
     "execution_count": 33,
     "metadata": {},
     "output_type": "execute_result"
    }
   ],
   "source": [
    "agg_data['monthly_revenue'] = (agg_data['user_id']*agg_data['start_ride_price']) + (\n",
    "    agg_data['minute_price'] * agg_data['duration']+ agg_data['subscription_fee']\n",
    ")\n",
    "agg_data.head(10)     "
   ]
  },
  {
   "cell_type": "markdown",
   "id": "41545ac0",
   "metadata": {},
   "source": [
    "### Проверка гипотез"
   ]
  },
  {
   "cell_type": "markdown",
   "id": "ff5dceb5",
   "metadata": {},
   "source": [
    "#### . Проверю, тратят ли пользователи с подпиской больше времени на поездки?"
   ]
  },
  {
   "cell_type": "markdown",
   "id": "5779eae9",
   "metadata": {},
   "source": [
    "- Н0: пользователи тратят больше времени времени на поездки.\n",
    "- Н1: пользователи не тратят больше времени на поездки."
   ]
  },
  {
   "cell_type": "code",
   "execution_count": 59,
   "id": "344f56f5",
   "metadata": {},
   "outputs": [
    {
     "name": "stdout",
     "output_type": "stream",
     "text": [
      "1.2804098316645618e-34\n",
      "Отвергаем нулевую гипотезу\n"
     ]
    }
   ],
   "source": [
    "ultra1 = data_ultra['duration']\n",
    "free1 = data_free['duration']\n",
    "\n",
    "results = st.ttest_ind(ultra1, free1, alternative='greater')\n",
    "alpha = 0.05\n",
    "\n",
    "print(results.pvalue)\n",
    "\n",
    "if results.pvalue < alpha:\n",
    "    print('Отвергаем нулевую гипотезу')\n",
    "else:\n",
    "    print('Не удалось отвергнуть нулевую гипотезу')\n"
   ]
  },
  {
   "cell_type": "markdown",
   "id": "9b1445d5",
   "metadata": {},
   "source": [
    "нет, пользователи с подпиской тратят больше времени"
   ]
  },
  {
   "cell_type": "markdown",
   "id": "1ff08196",
   "metadata": {},
   "source": [
    "#### Расстояние одной поездки в 3130 метров — оптимальное с точки зрения износа самоката. Проверю, можно ли сказать, что среднее расстояние, которое проезжают пользователи с подпиской за одну поездку, не превышает 3130 метров?\n",
    "\n",
    "- Н0: Среднее расстояние, которое проезжают пользователи с подпиской за 1 поездку равна 3130 метров.\n",
    "- Н1: Среднее расстояние, которое проезжают пользователи с подпиской за 1 поездку больше 3130 метров."
   ]
  },
  {
   "cell_type": "code",
   "execution_count": 2,
   "id": "1c681e46",
   "metadata": {},
   "outputs": [
    {
     "ename": "NameError",
     "evalue": "name 'st' is not defined",
     "output_type": "error",
     "traceback": [
      "\u001b[0;31m---------------------------------------------------------------------------\u001b[0m",
      "\u001b[0;31mNameError\u001b[0m                                 Traceback (most recent call last)",
      "\u001b[0;32m/tmp/ipykernel_78/3034767713.py\u001b[0m in \u001b[0;36m<module>\u001b[0;34m\u001b[0m\n\u001b[0;32m----> 1\u001b[0;31m \u001b[0mresults\u001b[0m \u001b[0;34m=\u001b[0m \u001b[0mst\u001b[0m\u001b[0;34m.\u001b[0m\u001b[0mttest_1samp\u001b[0m\u001b[0;34m(\u001b[0m\u001b[0mdata_ultra\u001b[0m\u001b[0;34m[\u001b[0m\u001b[0;34m'distance'\u001b[0m\u001b[0;34m]\u001b[0m\u001b[0;34m,\u001b[0m \u001b[0;36m3130\u001b[0m\u001b[0;34m,\u001b[0m\u001b[0malternative\u001b[0m\u001b[0;34m=\u001b[0m\u001b[0;34m'greater'\u001b[0m\u001b[0;34m)\u001b[0m\u001b[0;34m\u001b[0m\u001b[0;34m\u001b[0m\u001b[0m\n\u001b[0m\u001b[1;32m      2\u001b[0m \u001b[0malpha\u001b[0m \u001b[0;34m=\u001b[0m \u001b[0;36m0.05\u001b[0m\u001b[0;34m\u001b[0m\u001b[0;34m\u001b[0m\u001b[0m\n\u001b[1;32m      3\u001b[0m \u001b[0mprint\u001b[0m\u001b[0;34m(\u001b[0m\u001b[0mresults\u001b[0m\u001b[0;34m.\u001b[0m\u001b[0mpvalue\u001b[0m\u001b[0;34m)\u001b[0m\u001b[0;34m\u001b[0m\u001b[0;34m\u001b[0m\u001b[0m\n\u001b[1;32m      4\u001b[0m \u001b[0;34m\u001b[0m\u001b[0m\n\u001b[1;32m      5\u001b[0m \u001b[0;32mif\u001b[0m \u001b[0mresults\u001b[0m\u001b[0;34m.\u001b[0m\u001b[0mpvalue\u001b[0m \u001b[0;34m<\u001b[0m \u001b[0malpha\u001b[0m\u001b[0;34m:\u001b[0m\u001b[0;34m\u001b[0m\u001b[0;34m\u001b[0m\u001b[0m\n",
      "\u001b[0;31mNameError\u001b[0m: name 'st' is not defined"
     ]
    }
   ],
   "source": [
    "results = st.ttest_1samp(data_ultra['distance'], 3130,alternative='greater')\n",
    "alpha = 0.05\n",
    "print(results.pvalue)\n",
    "\n",
    "if results.pvalue < alpha:\n",
    "    print('Отвергаем нулевую гипотезу')\n",
    "else:\n",
    "    print('Не удалось отвергнуть нулевую гипотезу')\n"
   ]
  },
  {
   "cell_type": "markdown",
   "id": "a3e86ebf",
   "metadata": {},
   "source": [
    "среднее расстояние, которое проезжают пользователи с подпиской и без за одну поездку не првышает 3130 метров."
   ]
  },
  {
   "cell_type": "markdown",
   "id": "5a472596",
   "metadata": {},
   "source": [
    "#### Проверю гипотезу о том, будет ли помесячная выручка от пользователей с подпиской по месяцам выше, чем выручка от пользователей без подписки. \n",
    "- Н0: Выручка от пользователей с подпиской и без неё по месяцам равны:\n",
    "- Н1: Выручка от пользователей с подпиской по месяцам больше, чем без неё:"
   ]
  },
  {
   "cell_type": "code",
   "execution_count": 34,
   "id": "7465e587",
   "metadata": {},
   "outputs": [
    {
     "name": "stdout",
     "output_type": "stream",
     "text": [
      "2.8130926188487286e-35\n",
      "Отвергаем нулевую гипотезу\n"
     ]
    }
   ],
   "source": [
    "with_subscription = agg_data.loc[agg_data['subscription_fee'] == 199]['monthly_revenue']\n",
    "without_subscription = agg_data.loc[agg_data['subscription_fee'] == 0]['monthly_revenue']\n",
    "\n",
    "alpha = 0.05\n",
    "results = st.ttest_ind(with_subscription, without_subscription, alternative='greater')\n",
    "print(results.pvalue)\n",
    "\n",
    "if results.pvalue < alpha:\n",
    "    print('Отвергаем нулевую гипотезу')\n",
    "else:\n",
    "    print('Не удалось отвергнуть нулевую гипотезу')"
   ]
  },
  {
   "cell_type": "markdown",
   "id": "210c8eef",
   "metadata": {},
   "source": [
    "выручка от пользователей с подпиской по месяцам больше, чем без неё"
   ]
  },
  {
   "cell_type": "markdown",
   "id": "3456b2c2",
   "metadata": {},
   "source": [
    "#### Техническая команда сервиса обновила сервера, с которыми взаимодействует мобильное приложение. Она надеется, что из-за этого количество обращений в техподдержку значимо снизилось. Некоторый файл содержит для каждого пользователя данные о количестве обращений до обновления и после него. Какой тест вам понадобился бы для проверки этой гипотезы?\n"
   ]
  },
  {
   "cell_type": "markdown",
   "id": "ec331aef",
   "metadata": {},
   "source": [
    "Для проверки данного теста можно использовать генеральную выборку до и после изменения, тк тут две зависимые парные выборки. Можно проверить гипотезой о равенстве, методом scipy.stats.ttest_rel()"
   ]
  },
  {
   "cell_type": "markdown",
   "id": "61213c5e",
   "metadata": {},
   "source": [
    "### Вывод"
   ]
  },
  {
   "cell_type": "markdown",
   "id": "f3ba050d",
   "metadata": {},
   "source": [
    "по Иследовательскому анализу:\n",
    "\n",
    "    - Больше всего пользователей в Пятигорске и меньше всего в Москве;\n",
    "    - Пользователей с подпиской больше;\n",
    "    - Больше всего пользователей в возрасте 25 лет;\n",
    "    - В основном пользователи проезжают 2.5 - 4 км за одну поездку;\n",
    "    - Чаще всего поездка длятся от 10 до 20 минут;\n",
    "    - Пик продолжительности поездки клиента без подписки приходится на 12-25 минут, с наибольшим количеством поездок на расстояния от 2.5 до 3.5 км;\n",
    "    - Пик продолжительности поездки клиента с подпиской занимает 12-23 минут, с наибольшим количеством поездок на дистанции 2.8 - 3.4 км;\n",
    "    \n",
    "по Статистичческому анализу данных: \n",
    "\n",
    "    - Пользователи с подпиской не тратят больше времени\n",
    "    - Среднее расстояние, которое проезжают пользователи с подпиской и без за одну поездку не првышает 3130 метров.\n",
    "    - Выручка от пользователей с подпиской по месяцам больше, чем без неё\n",
    "    "
   ]
  }
 ],
 "metadata": {
  "ExecuteTimeLog": [
   {
    "duration": 55,
    "start_time": "2024-02-28T16:00:47.803Z"
   },
   {
    "duration": 6,
    "start_time": "2024-02-28T16:01:08.332Z"
   },
   {
    "duration": 399,
    "start_time": "2024-02-28T16:02:04.974Z"
   },
   {
    "duration": 274,
    "start_time": "2024-02-28T16:02:05.375Z"
   },
   {
    "duration": 13,
    "start_time": "2024-02-28T16:02:05.651Z"
   },
   {
    "duration": 7,
    "start_time": "2024-02-28T16:02:24.958Z"
   },
   {
    "duration": 8,
    "start_time": "2024-02-28T16:53:22.125Z"
   },
   {
    "duration": 380,
    "start_time": "2024-02-28T16:53:28.397Z"
   },
   {
    "duration": 68,
    "start_time": "2024-02-28T16:53:28.779Z"
   },
   {
    "duration": 14,
    "start_time": "2024-02-28T16:53:28.848Z"
   },
   {
    "duration": 25,
    "start_time": "2024-02-28T16:57:28.417Z"
   },
   {
    "duration": 68,
    "start_time": "2024-02-28T16:57:48.155Z"
   },
   {
    "duration": 404,
    "start_time": "2024-02-28T16:59:23.056Z"
   },
   {
    "duration": 64,
    "start_time": "2024-02-28T16:59:23.462Z"
   },
   {
    "duration": 23,
    "start_time": "2024-02-28T16:59:23.527Z"
   },
   {
    "duration": 12,
    "start_time": "2024-02-28T16:59:23.552Z"
   },
   {
    "duration": 9,
    "start_time": "2024-02-28T16:59:59.692Z"
   },
   {
    "duration": 369,
    "start_time": "2024-02-28T17:00:05.789Z"
   },
   {
    "duration": 65,
    "start_time": "2024-02-28T17:00:06.160Z"
   },
   {
    "duration": 25,
    "start_time": "2024-02-28T17:00:06.226Z"
   },
   {
    "duration": 14,
    "start_time": "2024-02-28T17:00:06.253Z"
   },
   {
    "duration": 7,
    "start_time": "2024-02-28T17:00:06.269Z"
   },
   {
    "duration": 7,
    "start_time": "2024-02-28T17:00:06.278Z"
   },
   {
    "duration": 106,
    "start_time": "2024-02-28T17:07:16.149Z"
   },
   {
    "duration": 13,
    "start_time": "2024-02-28T17:07:27.161Z"
   },
   {
    "duration": 102,
    "start_time": "2024-02-28T17:09:07.139Z"
   },
   {
    "duration": 19,
    "start_time": "2024-02-28T17:09:17.329Z"
   },
   {
    "duration": 20,
    "start_time": "2024-02-28T17:09:42.009Z"
   },
   {
    "duration": 7,
    "start_time": "2024-02-28T17:09:48.286Z"
   },
   {
    "duration": 98,
    "start_time": "2024-02-28T17:13:57.165Z"
   },
   {
    "duration": 10,
    "start_time": "2024-02-28T17:15:25.252Z"
   },
   {
    "duration": 11,
    "start_time": "2024-02-28T17:17:39.283Z"
   },
   {
    "duration": 6,
    "start_time": "2024-02-28T17:18:45.453Z"
   },
   {
    "duration": 9,
    "start_time": "2024-02-28T17:55:07.970Z"
   },
   {
    "duration": 6,
    "start_time": "2024-02-28T17:55:26.591Z"
   },
   {
    "duration": 10,
    "start_time": "2024-02-28T17:56:14.188Z"
   },
   {
    "duration": 13,
    "start_time": "2024-02-29T07:38:08.922Z"
   },
   {
    "duration": 424,
    "start_time": "2024-02-29T07:38:18.535Z"
   },
   {
    "duration": 65,
    "start_time": "2024-02-29T07:38:18.961Z"
   },
   {
    "duration": 27,
    "start_time": "2024-02-29T07:38:19.027Z"
   },
   {
    "duration": 13,
    "start_time": "2024-02-29T07:38:19.056Z"
   },
   {
    "duration": 8,
    "start_time": "2024-02-29T07:38:19.071Z"
   },
   {
    "duration": 11,
    "start_time": "2024-02-29T07:38:19.080Z"
   },
   {
    "duration": 19,
    "start_time": "2024-02-29T07:38:19.092Z"
   },
   {
    "duration": 8,
    "start_time": "2024-02-29T07:38:19.112Z"
   },
   {
    "duration": 20,
    "start_time": "2024-02-29T07:38:19.121Z"
   },
   {
    "duration": 22,
    "start_time": "2024-02-29T07:38:19.142Z"
   },
   {
    "duration": 11,
    "start_time": "2024-02-29T07:38:19.168Z"
   },
   {
    "duration": 6,
    "start_time": "2024-02-29T07:39:46.181Z"
   },
   {
    "duration": 7,
    "start_time": "2024-02-29T07:40:39.101Z"
   },
   {
    "duration": 6,
    "start_time": "2024-02-29T07:40:51.864Z"
   },
   {
    "duration": 5,
    "start_time": "2024-02-29T07:41:51.236Z"
   },
   {
    "duration": 6,
    "start_time": "2024-02-29T07:41:54.699Z"
   },
   {
    "duration": 5,
    "start_time": "2024-02-29T07:42:01.537Z"
   },
   {
    "duration": 5,
    "start_time": "2024-02-29T07:42:03.682Z"
   },
   {
    "duration": 389,
    "start_time": "2024-02-29T07:42:12.364Z"
   },
   {
    "duration": 65,
    "start_time": "2024-02-29T07:42:12.755Z"
   },
   {
    "duration": 26,
    "start_time": "2024-02-29T07:42:12.822Z"
   },
   {
    "duration": 13,
    "start_time": "2024-02-29T07:42:12.850Z"
   },
   {
    "duration": 14,
    "start_time": "2024-02-29T07:42:12.864Z"
   },
   {
    "duration": 9,
    "start_time": "2024-02-29T07:42:12.879Z"
   },
   {
    "duration": 22,
    "start_time": "2024-02-29T07:42:12.889Z"
   },
   {
    "duration": 10,
    "start_time": "2024-02-29T07:42:12.913Z"
   },
   {
    "duration": 20,
    "start_time": "2024-02-29T07:42:12.925Z"
   },
   {
    "duration": 6,
    "start_time": "2024-02-29T07:42:12.948Z"
   },
   {
    "duration": 8,
    "start_time": "2024-02-29T07:42:12.956Z"
   },
   {
    "duration": 8,
    "start_time": "2024-02-29T07:42:12.966Z"
   },
   {
    "duration": 5,
    "start_time": "2024-02-29T07:42:12.976Z"
   },
   {
    "duration": 5,
    "start_time": "2024-02-29T07:42:12.982Z"
   },
   {
    "duration": 6,
    "start_time": "2024-02-29T07:42:12.988Z"
   },
   {
    "duration": 6,
    "start_time": "2024-02-29T07:46:20.717Z"
   },
   {
    "duration": 4,
    "start_time": "2024-02-29T07:46:40.963Z"
   },
   {
    "duration": 4,
    "start_time": "2024-02-29T07:47:27.642Z"
   },
   {
    "duration": 4,
    "start_time": "2024-02-29T07:48:09.103Z"
   },
   {
    "duration": 101,
    "start_time": "2024-02-29T07:48:13.204Z"
   },
   {
    "duration": 5,
    "start_time": "2024-02-29T07:48:19.618Z"
   },
   {
    "duration": 98,
    "start_time": "2024-02-29T07:48:23.273Z"
   },
   {
    "duration": 3,
    "start_time": "2024-02-29T07:48:28.566Z"
   },
   {
    "duration": 98,
    "start_time": "2024-02-29T08:31:49.166Z"
   },
   {
    "duration": 410,
    "start_time": "2024-02-29T08:32:08.731Z"
   },
   {
    "duration": 10,
    "start_time": "2024-02-29T08:32:42.763Z"
   },
   {
    "duration": 24418,
    "start_time": "2024-02-29T08:32:50.866Z"
   },
   {
    "duration": 175,
    "start_time": "2024-02-29T09:21:41.319Z"
   },
   {
    "duration": 218,
    "start_time": "2024-02-29T09:22:07.706Z"
   },
   {
    "duration": 154,
    "start_time": "2024-02-29T09:22:20.269Z"
   },
   {
    "duration": 337,
    "start_time": "2024-02-29T09:22:51.228Z"
   },
   {
    "duration": 154,
    "start_time": "2024-02-29T09:23:00.095Z"
   },
   {
    "duration": 133,
    "start_time": "2024-02-29T09:23:08.214Z"
   },
   {
    "duration": 122,
    "start_time": "2024-02-29T09:23:14.574Z"
   },
   {
    "duration": 117,
    "start_time": "2024-02-29T09:35:55.635Z"
   },
   {
    "duration": 108,
    "start_time": "2024-02-29T09:36:03.715Z"
   },
   {
    "duration": 113,
    "start_time": "2024-02-29T09:40:15.169Z"
   },
   {
    "duration": 546,
    "start_time": "2024-02-29T09:41:18.802Z"
   },
   {
    "duration": 97,
    "start_time": "2024-02-29T09:41:48.232Z"
   },
   {
    "duration": 112,
    "start_time": "2024-02-29T09:41:52.301Z"
   },
   {
    "duration": 449,
    "start_time": "2024-02-29T09:41:59.211Z"
   },
   {
    "duration": 408,
    "start_time": "2024-02-29T09:44:12.749Z"
   },
   {
    "duration": 439,
    "start_time": "2024-02-29T09:44:51.869Z"
   },
   {
    "duration": 5,
    "start_time": "2024-02-29T09:45:06.377Z"
   },
   {
    "duration": 14,
    "start_time": "2024-02-29T09:45:20.977Z"
   },
   {
    "duration": 10,
    "start_time": "2024-02-29T09:45:49.634Z"
   },
   {
    "duration": 130,
    "start_time": "2024-02-29T09:47:09.153Z"
   },
   {
    "duration": 124,
    "start_time": "2024-02-29T09:47:16.673Z"
   },
   {
    "duration": 152,
    "start_time": "2024-02-29T09:47:23.897Z"
   },
   {
    "duration": 235,
    "start_time": "2024-02-29T09:47:33.733Z"
   },
   {
    "duration": 186,
    "start_time": "2024-02-29T09:47:43.981Z"
   },
   {
    "duration": 300,
    "start_time": "2024-02-29T09:51:55.331Z"
   },
   {
    "duration": 893,
    "start_time": "2024-02-29T09:52:04.232Z"
   },
   {
    "duration": 381,
    "start_time": "2024-02-29T09:52:21.013Z"
   },
   {
    "duration": 151,
    "start_time": "2024-02-29T09:56:07.001Z"
   },
   {
    "duration": 197,
    "start_time": "2024-02-29T09:56:28.117Z"
   },
   {
    "duration": 224,
    "start_time": "2024-02-29T09:57:02.925Z"
   },
   {
    "duration": 106,
    "start_time": "2024-02-29T09:57:16.413Z"
   },
   {
    "duration": 19,
    "start_time": "2024-02-29T13:55:44.869Z"
   },
   {
    "duration": 12,
    "start_time": "2024-02-29T13:57:06.203Z"
   },
   {
    "duration": 396,
    "start_time": "2024-02-29T13:57:25.171Z"
   },
   {
    "duration": 67,
    "start_time": "2024-02-29T13:57:25.568Z"
   },
   {
    "duration": 26,
    "start_time": "2024-02-29T13:57:25.637Z"
   },
   {
    "duration": 42,
    "start_time": "2024-02-29T13:57:25.665Z"
   },
   {
    "duration": 15,
    "start_time": "2024-02-29T13:57:25.709Z"
   },
   {
    "duration": 38,
    "start_time": "2024-02-29T13:57:25.725Z"
   },
   {
    "duration": 29,
    "start_time": "2024-02-29T13:57:25.764Z"
   },
   {
    "duration": 51,
    "start_time": "2024-02-29T13:57:25.795Z"
   },
   {
    "duration": 13,
    "start_time": "2024-02-29T13:57:25.848Z"
   },
   {
    "duration": 32,
    "start_time": "2024-02-29T13:57:25.863Z"
   },
   {
    "duration": 13,
    "start_time": "2024-02-29T13:57:25.896Z"
   },
   {
    "duration": 34,
    "start_time": "2024-02-29T13:57:25.911Z"
   },
   {
    "duration": 10,
    "start_time": "2024-02-29T13:57:25.947Z"
   },
   {
    "duration": 20,
    "start_time": "2024-02-29T13:57:25.959Z"
   },
   {
    "duration": 28,
    "start_time": "2024-02-29T13:57:25.980Z"
   },
   {
    "duration": 6,
    "start_time": "2024-02-29T13:57:26.010Z"
   },
   {
    "duration": 9,
    "start_time": "2024-02-29T13:57:26.018Z"
   },
   {
    "duration": 12,
    "start_time": "2024-02-29T13:57:26.028Z"
   },
   {
    "duration": 16,
    "start_time": "2024-02-29T13:57:26.042Z"
   },
   {
    "duration": 473,
    "start_time": "2024-02-29T13:57:26.060Z"
   },
   {
    "duration": 105,
    "start_time": "2024-02-29T13:57:26.535Z"
   },
   {
    "duration": 197,
    "start_time": "2024-02-29T13:57:26.641Z"
   },
   {
    "duration": 276,
    "start_time": "2024-02-29T13:57:26.839Z"
   },
   {
    "duration": 0,
    "start_time": "2024-02-29T13:57:27.116Z"
   },
   {
    "duration": 0,
    "start_time": "2024-02-29T13:57:27.117Z"
   },
   {
    "duration": 353,
    "start_time": "2024-02-29T13:57:41.613Z"
   },
   {
    "duration": 67,
    "start_time": "2024-02-29T13:57:41.968Z"
   },
   {
    "duration": 26,
    "start_time": "2024-02-29T13:57:42.037Z"
   },
   {
    "duration": 14,
    "start_time": "2024-02-29T13:57:42.065Z"
   },
   {
    "duration": 8,
    "start_time": "2024-02-29T13:57:42.080Z"
   },
   {
    "duration": 7,
    "start_time": "2024-02-29T13:57:42.089Z"
   },
   {
    "duration": 23,
    "start_time": "2024-02-29T13:57:42.097Z"
   },
   {
    "duration": 7,
    "start_time": "2024-02-29T13:57:42.122Z"
   },
   {
    "duration": 10,
    "start_time": "2024-02-29T13:57:42.131Z"
   },
   {
    "duration": 5,
    "start_time": "2024-02-29T13:57:42.160Z"
   },
   {
    "duration": 8,
    "start_time": "2024-02-29T13:57:42.166Z"
   },
   {
    "duration": 8,
    "start_time": "2024-02-29T13:57:42.176Z"
   },
   {
    "duration": 5,
    "start_time": "2024-02-29T13:57:42.186Z"
   },
   {
    "duration": 4,
    "start_time": "2024-02-29T13:57:42.192Z"
   },
   {
    "duration": 9,
    "start_time": "2024-02-29T13:57:42.198Z"
   },
   {
    "duration": 4,
    "start_time": "2024-02-29T13:57:42.209Z"
   },
   {
    "duration": 4,
    "start_time": "2024-02-29T13:57:42.214Z"
   },
   {
    "duration": 40,
    "start_time": "2024-02-29T13:57:42.219Z"
   },
   {
    "duration": 4,
    "start_time": "2024-02-29T13:57:42.261Z"
   },
   {
    "duration": 417,
    "start_time": "2024-02-29T13:57:42.266Z"
   },
   {
    "duration": 107,
    "start_time": "2024-02-29T13:57:42.684Z"
   },
   {
    "duration": 195,
    "start_time": "2024-02-29T13:57:42.793Z"
   },
   {
    "duration": 408,
    "start_time": "2024-02-29T13:57:42.990Z"
   },
   {
    "duration": 247,
    "start_time": "2024-02-29T13:57:43.399Z"
   },
   {
    "duration": 14,
    "start_time": "2024-02-29T13:57:43.647Z"
   },
   {
    "duration": 17,
    "start_time": "2024-02-29T13:58:05.302Z"
   },
   {
    "duration": 10,
    "start_time": "2024-02-29T13:59:40.973Z"
   },
   {
    "duration": 18,
    "start_time": "2024-02-29T14:00:00.103Z"
   },
   {
    "duration": 20,
    "start_time": "2024-02-29T14:00:01.105Z"
   },
   {
    "duration": 76,
    "start_time": "2024-02-29T14:02:56.211Z"
   },
   {
    "duration": 7,
    "start_time": "2024-02-29T14:05:04.706Z"
   },
   {
    "duration": 11,
    "start_time": "2024-02-29T14:50:09.361Z"
   },
   {
    "duration": 8,
    "start_time": "2024-02-29T14:50:22.405Z"
   },
   {
    "duration": 9,
    "start_time": "2024-02-29T14:50:48.395Z"
   },
   {
    "duration": 11,
    "start_time": "2024-02-29T14:53:11.445Z"
   },
   {
    "duration": 12,
    "start_time": "2024-02-29T17:22:26.477Z"
   },
   {
    "duration": 9,
    "start_time": "2024-02-29T17:23:20.688Z"
   },
   {
    "duration": 2012,
    "start_time": "2024-02-29T17:27:39.203Z"
   },
   {
    "duration": 1582,
    "start_time": "2024-02-29T17:29:34.472Z"
   },
   {
    "duration": 407,
    "start_time": "2024-02-29T17:30:27.253Z"
   },
   {
    "duration": 65,
    "start_time": "2024-02-29T17:30:27.662Z"
   },
   {
    "duration": 22,
    "start_time": "2024-02-29T17:30:27.728Z"
   },
   {
    "duration": 45,
    "start_time": "2024-02-29T17:30:27.751Z"
   },
   {
    "duration": 8,
    "start_time": "2024-02-29T17:30:27.798Z"
   },
   {
    "duration": 6,
    "start_time": "2024-02-29T17:30:27.807Z"
   },
   {
    "duration": 16,
    "start_time": "2024-02-29T17:30:27.815Z"
   },
   {
    "duration": 8,
    "start_time": "2024-02-29T17:30:27.832Z"
   },
   {
    "duration": 15,
    "start_time": "2024-02-29T17:30:27.842Z"
   },
   {
    "duration": 5,
    "start_time": "2024-02-29T17:30:27.858Z"
   },
   {
    "duration": 20,
    "start_time": "2024-02-29T17:30:27.864Z"
   },
   {
    "duration": 22,
    "start_time": "2024-02-29T17:30:27.885Z"
   },
   {
    "duration": 6,
    "start_time": "2024-02-29T17:30:27.908Z"
   },
   {
    "duration": 8,
    "start_time": "2024-02-29T17:30:27.916Z"
   },
   {
    "duration": 8,
    "start_time": "2024-02-29T17:30:27.925Z"
   },
   {
    "duration": 12,
    "start_time": "2024-02-29T17:30:27.934Z"
   },
   {
    "duration": 18,
    "start_time": "2024-02-29T17:30:27.947Z"
   },
   {
    "duration": 12,
    "start_time": "2024-02-29T17:30:27.966Z"
   },
   {
    "duration": 14,
    "start_time": "2024-02-29T17:30:27.979Z"
   },
   {
    "duration": 391,
    "start_time": "2024-02-29T17:30:27.995Z"
   },
   {
    "duration": 114,
    "start_time": "2024-02-29T17:30:28.388Z"
   },
   {
    "duration": 213,
    "start_time": "2024-02-29T17:30:28.503Z"
   },
   {
    "duration": 391,
    "start_time": "2024-02-29T17:30:28.718Z"
   },
   {
    "duration": 228,
    "start_time": "2024-02-29T17:30:29.111Z"
   },
   {
    "duration": 22,
    "start_time": "2024-02-29T17:30:29.340Z"
   },
   {
    "duration": 16,
    "start_time": "2024-02-29T17:30:29.364Z"
   },
   {
    "duration": 14,
    "start_time": "2024-02-29T17:30:29.381Z"
   },
   {
    "duration": 11,
    "start_time": "2024-02-29T17:30:29.397Z"
   },
   {
    "duration": 374,
    "start_time": "2024-02-29T17:30:29.409Z"
   },
   {
    "duration": 69,
    "start_time": "2024-02-29T17:33:39.619Z"
   },
   {
    "duration": 295,
    "start_time": "2024-02-29T17:33:53.935Z"
   },
   {
    "duration": 537,
    "start_time": "2024-02-29T17:34:11.021Z"
   },
   {
    "duration": 1401,
    "start_time": "2024-02-29T17:34:23.128Z"
   },
   {
    "duration": 658,
    "start_time": "2024-02-29T17:34:37.433Z"
   },
   {
    "duration": 773,
    "start_time": "2024-02-29T17:34:57.015Z"
   },
   {
    "duration": 11,
    "start_time": "2024-02-29T18:39:36.255Z"
   },
   {
    "duration": 7,
    "start_time": "2024-02-29T18:39:57.663Z"
   },
   {
    "duration": 43,
    "start_time": "2024-03-01T08:32:38.909Z"
   },
   {
    "duration": 5,
    "start_time": "2024-03-01T08:34:43.737Z"
   },
   {
    "duration": 8,
    "start_time": "2024-03-01T08:37:53.237Z"
   },
   {
    "duration": 4,
    "start_time": "2024-03-01T08:42:52.081Z"
   },
   {
    "duration": 5,
    "start_time": "2024-03-01T08:50:57.553Z"
   },
   {
    "duration": 5,
    "start_time": "2024-03-01T08:51:15.465Z"
   },
   {
    "duration": 386,
    "start_time": "2024-03-01T08:52:26.679Z"
   },
   {
    "duration": 182,
    "start_time": "2024-03-01T08:52:27.067Z"
   },
   {
    "duration": 22,
    "start_time": "2024-03-01T08:52:27.251Z"
   },
   {
    "duration": 41,
    "start_time": "2024-03-01T08:52:27.274Z"
   },
   {
    "duration": 19,
    "start_time": "2024-03-01T08:52:27.317Z"
   },
   {
    "duration": 22,
    "start_time": "2024-03-01T08:52:27.337Z"
   },
   {
    "duration": 41,
    "start_time": "2024-03-01T08:52:27.360Z"
   },
   {
    "duration": 46,
    "start_time": "2024-03-01T08:52:27.402Z"
   },
   {
    "duration": 18,
    "start_time": "2024-03-01T08:52:27.450Z"
   },
   {
    "duration": 46,
    "start_time": "2024-03-01T08:52:27.469Z"
   },
   {
    "duration": 16,
    "start_time": "2024-03-01T08:52:27.517Z"
   },
   {
    "duration": 14,
    "start_time": "2024-03-01T08:52:27.534Z"
   },
   {
    "duration": 4,
    "start_time": "2024-03-01T08:52:27.550Z"
   },
   {
    "duration": 5,
    "start_time": "2024-03-01T08:52:27.556Z"
   },
   {
    "duration": 11,
    "start_time": "2024-03-01T08:52:27.562Z"
   },
   {
    "duration": 10,
    "start_time": "2024-03-01T08:52:27.574Z"
   },
   {
    "duration": 493,
    "start_time": "2024-03-01T08:52:27.586Z"
   },
   {
    "duration": 94,
    "start_time": "2024-03-01T08:52:28.080Z"
   },
   {
    "duration": 171,
    "start_time": "2024-03-01T08:52:28.175Z"
   },
   {
    "duration": 332,
    "start_time": "2024-03-01T08:52:28.347Z"
   },
   {
    "duration": 194,
    "start_time": "2024-03-01T08:52:28.680Z"
   },
   {
    "duration": 16,
    "start_time": "2024-03-01T08:52:28.876Z"
   },
   {
    "duration": 22,
    "start_time": "2024-03-01T08:52:28.893Z"
   },
   {
    "duration": 15,
    "start_time": "2024-03-01T08:52:28.916Z"
   },
   {
    "duration": 25,
    "start_time": "2024-03-01T08:52:28.933Z"
   },
   {
    "duration": 525,
    "start_time": "2024-03-01T08:52:28.960Z"
   },
   {
    "duration": 564,
    "start_time": "2024-03-01T08:52:29.486Z"
   },
   {
    "duration": 78,
    "start_time": "2024-03-01T08:52:30.051Z"
   },
   {
    "duration": 16,
    "start_time": "2024-03-01T08:53:41.328Z"
   },
   {
    "duration": 354,
    "start_time": "2024-03-01T08:53:50.864Z"
   },
   {
    "duration": 63,
    "start_time": "2024-03-01T08:53:51.219Z"
   },
   {
    "duration": 19,
    "start_time": "2024-03-01T08:53:51.283Z"
   },
   {
    "duration": 11,
    "start_time": "2024-03-01T08:53:51.304Z"
   },
   {
    "duration": 6,
    "start_time": "2024-03-01T08:53:51.317Z"
   },
   {
    "duration": 19,
    "start_time": "2024-03-01T08:53:51.324Z"
   },
   {
    "duration": 35,
    "start_time": "2024-03-01T08:53:51.344Z"
   },
   {
    "duration": 47,
    "start_time": "2024-03-01T08:53:51.381Z"
   },
   {
    "duration": 20,
    "start_time": "2024-03-01T08:53:51.429Z"
   },
   {
    "duration": 13,
    "start_time": "2024-03-01T08:53:51.451Z"
   },
   {
    "duration": 42,
    "start_time": "2024-03-01T08:53:51.465Z"
   },
   {
    "duration": 21,
    "start_time": "2024-03-01T08:53:51.509Z"
   },
   {
    "duration": 10,
    "start_time": "2024-03-01T08:53:51.532Z"
   },
   {
    "duration": 16,
    "start_time": "2024-03-01T08:53:51.543Z"
   },
   {
    "duration": 12,
    "start_time": "2024-03-01T08:53:51.560Z"
   },
   {
    "duration": 23,
    "start_time": "2024-03-01T08:53:51.574Z"
   },
   {
    "duration": 350,
    "start_time": "2024-03-01T08:53:51.598Z"
   },
   {
    "duration": 93,
    "start_time": "2024-03-01T08:53:51.950Z"
   },
   {
    "duration": 164,
    "start_time": "2024-03-01T08:53:52.044Z"
   },
   {
    "duration": 318,
    "start_time": "2024-03-01T08:53:52.209Z"
   },
   {
    "duration": 189,
    "start_time": "2024-03-01T08:53:52.528Z"
   },
   {
    "duration": 16,
    "start_time": "2024-03-01T08:53:52.718Z"
   },
   {
    "duration": 14,
    "start_time": "2024-03-01T08:53:52.736Z"
   },
   {
    "duration": 13,
    "start_time": "2024-03-01T08:53:52.751Z"
   },
   {
    "duration": 20,
    "start_time": "2024-03-01T08:53:52.765Z"
   },
   {
    "duration": 553,
    "start_time": "2024-03-01T08:53:52.786Z"
   },
   {
    "duration": 555,
    "start_time": "2024-03-01T08:53:53.341Z"
   },
   {
    "duration": 14,
    "start_time": "2024-03-01T08:53:53.901Z"
   },
   {
    "duration": 25,
    "start_time": "2024-03-01T08:54:20.113Z"
   },
   {
    "duration": 21,
    "start_time": "2024-03-01T08:54:32.837Z"
   },
   {
    "duration": 19,
    "start_time": "2024-03-01T09:15:27.367Z"
   },
   {
    "duration": 3,
    "start_time": "2024-03-01T09:22:27.835Z"
   },
   {
    "duration": 386,
    "start_time": "2024-03-01T09:22:37.688Z"
   },
   {
    "duration": 62,
    "start_time": "2024-03-01T09:22:38.075Z"
   },
   {
    "duration": 20,
    "start_time": "2024-03-01T09:22:38.138Z"
   },
   {
    "duration": 33,
    "start_time": "2024-03-01T09:22:38.159Z"
   },
   {
    "duration": 12,
    "start_time": "2024-03-01T09:22:38.193Z"
   },
   {
    "duration": 7,
    "start_time": "2024-03-01T09:22:38.206Z"
   },
   {
    "duration": 13,
    "start_time": "2024-03-01T09:22:38.214Z"
   },
   {
    "duration": 13,
    "start_time": "2024-03-01T09:22:38.228Z"
   },
   {
    "duration": 10,
    "start_time": "2024-03-01T09:22:38.242Z"
   },
   {
    "duration": 20,
    "start_time": "2024-03-01T09:22:38.256Z"
   },
   {
    "duration": 6,
    "start_time": "2024-03-01T09:22:38.277Z"
   },
   {
    "duration": 8,
    "start_time": "2024-03-01T09:22:38.284Z"
   },
   {
    "duration": 5,
    "start_time": "2024-03-01T09:22:38.301Z"
   },
   {
    "duration": 20,
    "start_time": "2024-03-01T09:22:38.307Z"
   },
   {
    "duration": 5,
    "start_time": "2024-03-01T09:22:38.329Z"
   },
   {
    "duration": 7,
    "start_time": "2024-03-01T09:22:38.335Z"
   },
   {
    "duration": 329,
    "start_time": "2024-03-01T09:22:38.343Z"
   },
   {
    "duration": 92,
    "start_time": "2024-03-01T09:22:38.673Z"
   },
   {
    "duration": 168,
    "start_time": "2024-03-01T09:22:38.766Z"
   },
   {
    "duration": 319,
    "start_time": "2024-03-01T09:22:38.935Z"
   },
   {
    "duration": 189,
    "start_time": "2024-03-01T09:22:39.255Z"
   },
   {
    "duration": 16,
    "start_time": "2024-03-01T09:22:39.446Z"
   },
   {
    "duration": 16,
    "start_time": "2024-03-01T09:22:39.463Z"
   },
   {
    "duration": 33,
    "start_time": "2024-03-01T09:22:39.480Z"
   },
   {
    "duration": 61,
    "start_time": "2024-03-01T09:22:39.514Z"
   },
   {
    "duration": 565,
    "start_time": "2024-03-01T09:22:39.576Z"
   },
   {
    "duration": 597,
    "start_time": "2024-03-01T09:22:40.143Z"
   },
   {
    "duration": 22,
    "start_time": "2024-03-01T09:22:40.743Z"
   },
   {
    "duration": 5,
    "start_time": "2024-03-01T09:22:40.766Z"
   },
   {
    "duration": 1386,
    "start_time": "2024-03-01T09:25:01.245Z"
   },
   {
    "duration": 1387,
    "start_time": "2024-03-01T09:26:51.637Z"
   },
   {
    "duration": 1216,
    "start_time": "2024-03-01T09:59:44.026Z"
   },
   {
    "duration": 827,
    "start_time": "2024-03-01T10:18:57.329Z"
   },
   {
    "duration": 7,
    "start_time": "2024-03-01T10:23:15.599Z"
   },
   {
    "duration": 1141,
    "start_time": "2024-03-01T10:32:28.370Z"
   },
   {
    "duration": 261,
    "start_time": "2024-03-01T10:32:49.197Z"
   },
   {
    "duration": 7,
    "start_time": "2024-03-01T10:37:30.601Z"
   },
   {
    "duration": 1159,
    "start_time": "2024-03-01T10:39:03.229Z"
   },
   {
    "duration": 1103,
    "start_time": "2024-03-01T10:41:08.781Z"
   },
   {
    "duration": 1094,
    "start_time": "2024-03-01T10:41:39.167Z"
   },
   {
    "duration": 1105,
    "start_time": "2024-03-01T10:43:58.570Z"
   },
   {
    "duration": 3,
    "start_time": "2024-03-01T10:49:51.596Z"
   },
   {
    "duration": 1158,
    "start_time": "2024-03-01T10:50:00.050Z"
   },
   {
    "duration": 1079,
    "start_time": "2024-03-01T10:50:23.789Z"
   },
   {
    "duration": 7,
    "start_time": "2024-03-01T10:51:30.473Z"
   },
   {
    "duration": 11,
    "start_time": "2024-03-01T10:51:56.139Z"
   },
   {
    "duration": 1125,
    "start_time": "2024-03-01T10:54:02.275Z"
   },
   {
    "duration": 76,
    "start_time": "2024-03-01T11:20:58.400Z"
   },
   {
    "duration": 70,
    "start_time": "2024-03-01T11:21:40.215Z"
   },
   {
    "duration": 72,
    "start_time": "2024-03-01T11:21:58.392Z"
   },
   {
    "duration": 110,
    "start_time": "2024-03-01T11:23:28.283Z"
   },
   {
    "duration": 81,
    "start_time": "2024-03-01T11:23:40.236Z"
   },
   {
    "duration": 119,
    "start_time": "2024-03-01T11:24:01.696Z"
   },
   {
    "duration": 64,
    "start_time": "2024-03-01T18:30:39.873Z"
   },
   {
    "duration": 381,
    "start_time": "2024-03-01T18:30:45.577Z"
   },
   {
    "duration": 62,
    "start_time": "2024-03-01T18:30:45.960Z"
   },
   {
    "duration": 19,
    "start_time": "2024-03-01T18:30:46.024Z"
   },
   {
    "duration": 12,
    "start_time": "2024-03-01T18:30:46.044Z"
   },
   {
    "duration": 6,
    "start_time": "2024-03-01T18:30:46.058Z"
   },
   {
    "duration": 8,
    "start_time": "2024-03-01T18:30:46.065Z"
   },
   {
    "duration": 26,
    "start_time": "2024-03-01T18:30:46.075Z"
   },
   {
    "duration": 7,
    "start_time": "2024-03-01T18:30:46.103Z"
   },
   {
    "duration": 21,
    "start_time": "2024-03-01T18:30:46.111Z"
   },
   {
    "duration": 4,
    "start_time": "2024-03-01T18:30:46.133Z"
   },
   {
    "duration": 8,
    "start_time": "2024-03-01T18:30:46.138Z"
   },
   {
    "duration": 10,
    "start_time": "2024-03-01T18:30:46.147Z"
   },
   {
    "duration": 11,
    "start_time": "2024-03-01T18:30:46.158Z"
   },
   {
    "duration": 13,
    "start_time": "2024-03-01T18:30:46.171Z"
   },
   {
    "duration": 7,
    "start_time": "2024-03-01T18:30:46.185Z"
   },
   {
    "duration": 8,
    "start_time": "2024-03-01T18:30:46.193Z"
   },
   {
    "duration": 330,
    "start_time": "2024-03-01T18:30:46.202Z"
   },
   {
    "duration": 98,
    "start_time": "2024-03-01T18:30:46.534Z"
   },
   {
    "duration": 169,
    "start_time": "2024-03-01T18:30:46.634Z"
   },
   {
    "duration": 321,
    "start_time": "2024-03-01T18:30:46.804Z"
   },
   {
    "duration": 198,
    "start_time": "2024-03-01T18:30:47.126Z"
   },
   {
    "duration": 16,
    "start_time": "2024-03-01T18:30:47.325Z"
   },
   {
    "duration": 15,
    "start_time": "2024-03-01T18:30:47.342Z"
   },
   {
    "duration": 13,
    "start_time": "2024-03-01T18:30:47.358Z"
   },
   {
    "duration": 31,
    "start_time": "2024-03-01T18:30:47.372Z"
   },
   {
    "duration": 535,
    "start_time": "2024-03-01T18:30:47.404Z"
   },
   {
    "duration": 555,
    "start_time": "2024-03-01T18:30:47.940Z"
   },
   {
    "duration": 64,
    "start_time": "2024-03-01T18:30:48.496Z"
   },
   {
    "duration": 0,
    "start_time": "2024-03-01T18:30:48.561Z"
   },
   {
    "duration": 69,
    "start_time": "2024-03-01T18:31:37.106Z"
   },
   {
    "duration": 65,
    "start_time": "2024-03-01T18:32:04.796Z"
   },
   {
    "duration": 73,
    "start_time": "2024-03-01T18:38:12.753Z"
   },
   {
    "duration": 64,
    "start_time": "2024-03-01T18:38:57.977Z"
   },
   {
    "duration": 9,
    "start_time": "2024-03-01T18:39:48.080Z"
   },
   {
    "duration": 349,
    "start_time": "2024-03-01T18:39:52.125Z"
   },
   {
    "duration": 61,
    "start_time": "2024-03-01T18:39:52.475Z"
   },
   {
    "duration": 19,
    "start_time": "2024-03-01T18:39:52.537Z"
   },
   {
    "duration": 19,
    "start_time": "2024-03-01T18:39:52.558Z"
   },
   {
    "duration": 6,
    "start_time": "2024-03-01T18:39:52.578Z"
   },
   {
    "duration": 10,
    "start_time": "2024-03-01T18:39:52.585Z"
   },
   {
    "duration": 17,
    "start_time": "2024-03-01T18:39:52.596Z"
   },
   {
    "duration": 7,
    "start_time": "2024-03-01T18:39:52.614Z"
   },
   {
    "duration": 9,
    "start_time": "2024-03-01T18:39:52.622Z"
   },
   {
    "duration": 4,
    "start_time": "2024-03-01T18:39:52.635Z"
   },
   {
    "duration": 8,
    "start_time": "2024-03-01T18:39:52.640Z"
   },
   {
    "duration": 33,
    "start_time": "2024-03-01T18:39:52.649Z"
   },
   {
    "duration": 6,
    "start_time": "2024-03-01T18:39:52.683Z"
   },
   {
    "duration": 17,
    "start_time": "2024-03-01T18:39:52.690Z"
   },
   {
    "duration": 15,
    "start_time": "2024-03-01T18:39:52.708Z"
   },
   {
    "duration": 47,
    "start_time": "2024-03-01T18:39:52.724Z"
   },
   {
    "duration": 320,
    "start_time": "2024-03-01T18:39:52.773Z"
   },
   {
    "duration": 93,
    "start_time": "2024-03-01T18:39:53.095Z"
   },
   {
    "duration": 167,
    "start_time": "2024-03-01T18:39:53.190Z"
   },
   {
    "duration": 319,
    "start_time": "2024-03-01T18:39:53.359Z"
   },
   {
    "duration": 194,
    "start_time": "2024-03-01T18:39:53.680Z"
   },
   {
    "duration": 26,
    "start_time": "2024-03-01T18:39:53.875Z"
   },
   {
    "duration": 17,
    "start_time": "2024-03-01T18:39:53.903Z"
   },
   {
    "duration": 16,
    "start_time": "2024-03-01T18:39:53.922Z"
   },
   {
    "duration": 23,
    "start_time": "2024-03-01T18:39:53.940Z"
   },
   {
    "duration": 530,
    "start_time": "2024-03-01T18:39:53.964Z"
   },
   {
    "duration": 553,
    "start_time": "2024-03-01T18:39:54.495Z"
   },
   {
    "duration": 65,
    "start_time": "2024-03-01T18:39:55.051Z"
   },
   {
    "duration": 0,
    "start_time": "2024-03-01T18:39:55.117Z"
   },
   {
    "duration": 6,
    "start_time": "2024-03-01T18:41:03.824Z"
   },
   {
    "duration": 10,
    "start_time": "2024-03-01T18:41:33.788Z"
   },
   {
    "duration": 9,
    "start_time": "2024-03-01T18:42:06.158Z"
   },
   {
    "duration": 10,
    "start_time": "2024-03-01T18:43:14.688Z"
   },
   {
    "duration": 13,
    "start_time": "2024-03-01T18:58:23.454Z"
   },
   {
    "duration": 411,
    "start_time": "2024-03-01T18:58:39.976Z"
   },
   {
    "duration": 62,
    "start_time": "2024-03-01T18:58:40.389Z"
   },
   {
    "duration": 19,
    "start_time": "2024-03-01T18:58:40.453Z"
   },
   {
    "duration": 13,
    "start_time": "2024-03-01T18:58:40.473Z"
   },
   {
    "duration": 8,
    "start_time": "2024-03-01T18:58:40.487Z"
   },
   {
    "duration": 13,
    "start_time": "2024-03-01T18:58:40.497Z"
   },
   {
    "duration": 12,
    "start_time": "2024-03-01T18:58:40.512Z"
   },
   {
    "duration": 7,
    "start_time": "2024-03-01T18:58:40.525Z"
   },
   {
    "duration": 13,
    "start_time": "2024-03-01T18:58:40.533Z"
   },
   {
    "duration": 6,
    "start_time": "2024-03-01T18:58:40.549Z"
   },
   {
    "duration": 4,
    "start_time": "2024-03-01T18:58:40.556Z"
   },
   {
    "duration": 27,
    "start_time": "2024-03-01T18:58:40.561Z"
   },
   {
    "duration": 6,
    "start_time": "2024-03-01T18:58:40.590Z"
   },
   {
    "duration": 10,
    "start_time": "2024-03-01T18:58:40.601Z"
   },
   {
    "duration": 10,
    "start_time": "2024-03-01T18:58:40.613Z"
   },
   {
    "duration": 7,
    "start_time": "2024-03-01T18:58:40.624Z"
   },
   {
    "duration": 303,
    "start_time": "2024-03-01T18:58:40.632Z"
   },
   {
    "duration": 87,
    "start_time": "2024-03-01T18:58:40.937Z"
   },
   {
    "duration": 157,
    "start_time": "2024-03-01T18:58:41.025Z"
   },
   {
    "duration": 307,
    "start_time": "2024-03-01T18:58:41.183Z"
   },
   {
    "duration": 185,
    "start_time": "2024-03-01T18:58:41.491Z"
   },
   {
    "duration": 24,
    "start_time": "2024-03-01T18:58:41.677Z"
   },
   {
    "duration": 15,
    "start_time": "2024-03-01T18:58:41.703Z"
   },
   {
    "duration": 21,
    "start_time": "2024-03-01T18:58:41.719Z"
   },
   {
    "duration": 11,
    "start_time": "2024-03-01T18:58:41.742Z"
   },
   {
    "duration": 530,
    "start_time": "2024-03-01T18:58:41.754Z"
   },
   {
    "duration": 550,
    "start_time": "2024-03-01T18:58:42.286Z"
   },
   {
    "duration": 81,
    "start_time": "2024-03-01T18:58:42.838Z"
   },
   {
    "duration": 0,
    "start_time": "2024-03-01T18:58:42.920Z"
   },
   {
    "duration": 38,
    "start_time": "2024-03-01T19:00:20.323Z"
   },
   {
    "duration": 69,
    "start_time": "2024-03-01T19:01:59.896Z"
   },
   {
    "duration": 94,
    "start_time": "2024-03-01T19:03:11.332Z"
   },
   {
    "duration": 76,
    "start_time": "2024-03-01T19:03:31.793Z"
   },
   {
    "duration": 66,
    "start_time": "2024-03-01T19:08:30.340Z"
   },
   {
    "duration": 70,
    "start_time": "2024-03-01T19:09:21.588Z"
   },
   {
    "duration": 63,
    "start_time": "2024-03-01T19:09:53.150Z"
   },
   {
    "duration": 7,
    "start_time": "2024-03-01T19:15:10.087Z"
   },
   {
    "duration": 17,
    "start_time": "2024-03-01T19:15:20.372Z"
   },
   {
    "duration": 11,
    "start_time": "2024-03-01T19:15:45.271Z"
   },
   {
    "duration": 11,
    "start_time": "2024-03-02T09:59:54.790Z"
   },
   {
    "duration": 16,
    "start_time": "2024-03-02T10:00:09.784Z"
   },
   {
    "duration": 1107,
    "start_time": "2024-03-02T10:00:48.092Z"
   },
   {
    "duration": 14,
    "start_time": "2024-03-02T10:02:07.116Z"
   },
   {
    "duration": 11,
    "start_time": "2024-03-02T10:02:51.903Z"
   },
   {
    "duration": 11,
    "start_time": "2024-03-02T11:15:56.870Z"
   },
   {
    "duration": 10,
    "start_time": "2024-03-02T11:55:29.167Z"
   },
   {
    "duration": 342,
    "start_time": "2024-03-02T11:55:36.851Z"
   },
   {
    "duration": 62,
    "start_time": "2024-03-02T11:55:37.195Z"
   },
   {
    "duration": 20,
    "start_time": "2024-03-02T11:55:37.259Z"
   },
   {
    "duration": 22,
    "start_time": "2024-03-02T11:55:37.280Z"
   },
   {
    "duration": 16,
    "start_time": "2024-03-02T11:55:37.303Z"
   },
   {
    "duration": 8,
    "start_time": "2024-03-02T11:55:37.320Z"
   },
   {
    "duration": 23,
    "start_time": "2024-03-02T11:55:37.329Z"
   },
   {
    "duration": 7,
    "start_time": "2024-03-02T11:55:37.353Z"
   },
   {
    "duration": 14,
    "start_time": "2024-03-02T11:55:37.361Z"
   },
   {
    "duration": 6,
    "start_time": "2024-03-02T11:55:37.376Z"
   },
   {
    "duration": 10,
    "start_time": "2024-03-02T11:55:37.383Z"
   },
   {
    "duration": 11,
    "start_time": "2024-03-02T11:55:37.394Z"
   },
   {
    "duration": 10,
    "start_time": "2024-03-02T11:55:37.407Z"
   },
   {
    "duration": 4,
    "start_time": "2024-03-02T11:55:37.419Z"
   },
   {
    "duration": 10,
    "start_time": "2024-03-02T11:55:37.424Z"
   },
   {
    "duration": 9,
    "start_time": "2024-03-02T11:55:37.435Z"
   },
   {
    "duration": 325,
    "start_time": "2024-03-02T11:55:37.445Z"
   },
   {
    "duration": 95,
    "start_time": "2024-03-02T11:55:37.772Z"
   },
   {
    "duration": 174,
    "start_time": "2024-03-02T11:55:37.869Z"
   },
   {
    "duration": 335,
    "start_time": "2024-03-02T11:55:38.044Z"
   },
   {
    "duration": 199,
    "start_time": "2024-03-02T11:55:38.380Z"
   },
   {
    "duration": 22,
    "start_time": "2024-03-02T11:55:38.580Z"
   },
   {
    "duration": 15,
    "start_time": "2024-03-02T11:55:38.603Z"
   },
   {
    "duration": 13,
    "start_time": "2024-03-02T11:55:38.620Z"
   },
   {
    "duration": 10,
    "start_time": "2024-03-02T11:55:38.634Z"
   },
   {
    "duration": 541,
    "start_time": "2024-03-02T11:55:38.646Z"
   },
   {
    "duration": 562,
    "start_time": "2024-03-02T11:55:39.188Z"
   },
   {
    "duration": 25,
    "start_time": "2024-03-02T11:55:39.751Z"
   },
   {
    "duration": 65,
    "start_time": "2024-03-02T11:55:39.777Z"
   },
   {
    "duration": 0,
    "start_time": "2024-03-02T11:55:39.843Z"
   },
   {
    "duration": 69,
    "start_time": "2024-03-02T11:55:54.256Z"
   },
   {
    "duration": 63,
    "start_time": "2024-03-02T11:57:26.435Z"
   },
   {
    "duration": 67,
    "start_time": "2024-03-02T11:57:39.287Z"
   },
   {
    "duration": 70,
    "start_time": "2024-03-02T11:59:03.608Z"
   },
   {
    "duration": 11,
    "start_time": "2024-03-02T11:59:48.502Z"
   },
   {
    "duration": 7,
    "start_time": "2024-03-02T12:00:38.200Z"
   },
   {
    "duration": 12,
    "start_time": "2024-03-02T12:00:54.205Z"
   },
   {
    "duration": 390,
    "start_time": "2024-03-02T12:01:07.698Z"
   },
   {
    "duration": 65,
    "start_time": "2024-03-02T12:01:08.089Z"
   },
   {
    "duration": 20,
    "start_time": "2024-03-02T12:01:08.155Z"
   },
   {
    "duration": 12,
    "start_time": "2024-03-02T12:01:08.177Z"
   },
   {
    "duration": 24,
    "start_time": "2024-03-02T12:01:08.190Z"
   },
   {
    "duration": 21,
    "start_time": "2024-03-02T12:01:08.215Z"
   },
   {
    "duration": 13,
    "start_time": "2024-03-02T12:01:08.237Z"
   },
   {
    "duration": 6,
    "start_time": "2024-03-02T12:01:08.252Z"
   },
   {
    "duration": 14,
    "start_time": "2024-03-02T12:01:08.260Z"
   },
   {
    "duration": 5,
    "start_time": "2024-03-02T12:01:08.276Z"
   },
   {
    "duration": 5,
    "start_time": "2024-03-02T12:01:08.282Z"
   },
   {
    "duration": 15,
    "start_time": "2024-03-02T12:01:08.288Z"
   },
   {
    "duration": 17,
    "start_time": "2024-03-02T12:01:08.304Z"
   },
   {
    "duration": 12,
    "start_time": "2024-03-02T12:01:08.322Z"
   },
   {
    "duration": 7,
    "start_time": "2024-03-02T12:01:08.335Z"
   },
   {
    "duration": 17,
    "start_time": "2024-03-02T12:01:08.344Z"
   },
   {
    "duration": 331,
    "start_time": "2024-03-02T12:01:08.362Z"
   },
   {
    "duration": 89,
    "start_time": "2024-03-02T12:01:08.694Z"
   },
   {
    "duration": 173,
    "start_time": "2024-03-02T12:01:08.784Z"
   },
   {
    "duration": 329,
    "start_time": "2024-03-02T12:01:08.958Z"
   },
   {
    "duration": 197,
    "start_time": "2024-03-02T12:01:09.289Z"
   },
   {
    "duration": 27,
    "start_time": "2024-03-02T12:01:09.487Z"
   },
   {
    "duration": 15,
    "start_time": "2024-03-02T12:01:09.516Z"
   },
   {
    "duration": 21,
    "start_time": "2024-03-02T12:01:09.533Z"
   },
   {
    "duration": 33,
    "start_time": "2024-03-02T12:01:09.555Z"
   },
   {
    "duration": 527,
    "start_time": "2024-03-02T12:01:09.589Z"
   },
   {
    "duration": 596,
    "start_time": "2024-03-02T12:01:10.117Z"
   },
   {
    "duration": 26,
    "start_time": "2024-03-02T12:01:10.715Z"
   },
   {
    "duration": 11,
    "start_time": "2024-03-02T12:01:10.742Z"
   },
   {
    "duration": 79,
    "start_time": "2024-03-02T12:01:10.754Z"
   },
   {
    "duration": 112,
    "start_time": "2024-03-02T12:01:26.027Z"
   },
   {
    "duration": 80,
    "start_time": "2024-03-02T12:01:37.342Z"
   },
   {
    "duration": 72,
    "start_time": "2024-03-02T12:02:06.297Z"
   },
   {
    "duration": 10,
    "start_time": "2024-03-02T12:14:56.773Z"
   },
   {
    "duration": 10,
    "start_time": "2024-03-02T12:16:05.341Z"
   },
   {
    "duration": 9,
    "start_time": "2024-03-02T12:16:25.490Z"
   },
   {
    "duration": 8,
    "start_time": "2024-03-02T12:16:44.547Z"
   },
   {
    "duration": 9,
    "start_time": "2024-03-02T15:38:40.386Z"
   },
   {
    "duration": 393,
    "start_time": "2024-03-02T15:57:34.411Z"
   },
   {
    "duration": 9,
    "start_time": "2024-03-02T16:01:14.554Z"
   },
   {
    "duration": 122,
    "start_time": "2024-03-02T16:02:18.700Z"
   },
   {
    "duration": 65,
    "start_time": "2024-03-02T16:26:18.381Z"
   },
   {
    "duration": 69,
    "start_time": "2024-03-02T16:26:25.097Z"
   },
   {
    "duration": 7,
    "start_time": "2024-03-02T16:27:52.775Z"
   },
   {
    "duration": 8,
    "start_time": "2024-03-02T16:28:19.468Z"
   },
   {
    "duration": 14,
    "start_time": "2024-03-02T16:29:30.423Z"
   },
   {
    "duration": 9,
    "start_time": "2024-03-02T16:32:03.353Z"
   },
   {
    "duration": 8,
    "start_time": "2024-03-02T16:32:25.378Z"
   },
   {
    "duration": 391,
    "start_time": "2024-03-02T16:32:32.680Z"
   },
   {
    "duration": 67,
    "start_time": "2024-03-02T16:32:33.072Z"
   },
   {
    "duration": 20,
    "start_time": "2024-03-02T16:32:33.140Z"
   },
   {
    "duration": 24,
    "start_time": "2024-03-02T16:32:33.161Z"
   },
   {
    "duration": 7,
    "start_time": "2024-03-02T16:32:33.186Z"
   },
   {
    "duration": 8,
    "start_time": "2024-03-02T16:32:33.194Z"
   },
   {
    "duration": 25,
    "start_time": "2024-03-02T16:32:33.203Z"
   },
   {
    "duration": 7,
    "start_time": "2024-03-02T16:32:33.230Z"
   },
   {
    "duration": 10,
    "start_time": "2024-03-02T16:32:33.238Z"
   },
   {
    "duration": 16,
    "start_time": "2024-03-02T16:32:33.249Z"
   },
   {
    "duration": 11,
    "start_time": "2024-03-02T16:32:33.267Z"
   },
   {
    "duration": 7,
    "start_time": "2024-03-02T16:32:33.279Z"
   },
   {
    "duration": 6,
    "start_time": "2024-03-02T16:32:33.287Z"
   },
   {
    "duration": 4,
    "start_time": "2024-03-02T16:32:33.301Z"
   },
   {
    "duration": 21,
    "start_time": "2024-03-02T16:32:33.306Z"
   },
   {
    "duration": 22,
    "start_time": "2024-03-02T16:32:33.328Z"
   },
   {
    "duration": 324,
    "start_time": "2024-03-02T16:32:33.351Z"
   },
   {
    "duration": 89,
    "start_time": "2024-03-02T16:32:33.677Z"
   },
   {
    "duration": 166,
    "start_time": "2024-03-02T16:32:33.767Z"
   },
   {
    "duration": 333,
    "start_time": "2024-03-02T16:32:33.934Z"
   },
   {
    "duration": 200,
    "start_time": "2024-03-02T16:32:34.269Z"
   },
   {
    "duration": 16,
    "start_time": "2024-03-02T16:32:34.470Z"
   },
   {
    "duration": 39,
    "start_time": "2024-03-02T16:32:34.488Z"
   },
   {
    "duration": 13,
    "start_time": "2024-03-02T16:32:34.528Z"
   },
   {
    "duration": 11,
    "start_time": "2024-03-02T16:32:34.542Z"
   },
   {
    "duration": 547,
    "start_time": "2024-03-02T16:32:34.555Z"
   },
   {
    "duration": 598,
    "start_time": "2024-03-02T16:32:35.104Z"
   },
   {
    "duration": 36,
    "start_time": "2024-03-02T16:32:35.703Z"
   },
   {
    "duration": 13,
    "start_time": "2024-03-02T16:32:35.740Z"
   },
   {
    "duration": 503,
    "start_time": "2024-03-02T16:32:35.754Z"
   },
   {
    "duration": 8,
    "start_time": "2024-03-02T16:34:12.085Z"
   },
   {
    "duration": 8,
    "start_time": "2024-03-02T16:43:44.976Z"
   },
   {
    "duration": 8,
    "start_time": "2024-03-02T18:41:32.909Z"
   },
   {
    "duration": 9,
    "start_time": "2024-03-02T18:42:41.665Z"
   },
   {
    "duration": 4,
    "start_time": "2024-03-02T18:42:54.011Z"
   },
   {
    "duration": 5,
    "start_time": "2024-03-02T18:44:02.839Z"
   },
   {
    "duration": 7,
    "start_time": "2024-03-02T18:44:14.940Z"
   },
   {
    "duration": 4,
    "start_time": "2024-03-02T18:49:20.222Z"
   },
   {
    "duration": 9,
    "start_time": "2024-03-02T19:25:00.126Z"
   },
   {
    "duration": 8,
    "start_time": "2024-03-02T19:25:24.160Z"
   },
   {
    "duration": 1105,
    "start_time": "2024-03-02T19:25:35.395Z"
   },
   {
    "duration": 7,
    "start_time": "2024-03-02T19:37:12.558Z"
   },
   {
    "duration": 357,
    "start_time": "2024-03-02T19:38:44.862Z"
   },
   {
    "duration": 35,
    "start_time": "2024-03-02T19:39:32.611Z"
   },
   {
    "duration": 1101,
    "start_time": "2024-03-02T19:39:54.791Z"
   },
   {
    "duration": 26,
    "start_time": "2024-03-02T19:41:26.783Z"
   },
   {
    "duration": 1093,
    "start_time": "2024-03-02T19:41:46.298Z"
   },
   {
    "duration": 765,
    "start_time": "2024-03-02T19:41:53.840Z"
   },
   {
    "duration": 63,
    "start_time": "2024-03-02T19:41:54.606Z"
   },
   {
    "duration": 20,
    "start_time": "2024-03-02T19:41:54.670Z"
   },
   {
    "duration": 15,
    "start_time": "2024-03-02T19:41:54.692Z"
   },
   {
    "duration": 7,
    "start_time": "2024-03-02T19:41:54.708Z"
   },
   {
    "duration": 11,
    "start_time": "2024-03-02T19:41:54.716Z"
   },
   {
    "duration": 18,
    "start_time": "2024-03-02T19:41:54.729Z"
   },
   {
    "duration": 9,
    "start_time": "2024-03-02T19:41:54.748Z"
   },
   {
    "duration": 14,
    "start_time": "2024-03-02T19:41:54.758Z"
   },
   {
    "duration": 32,
    "start_time": "2024-03-02T19:41:54.774Z"
   },
   {
    "duration": 6,
    "start_time": "2024-03-02T19:41:54.808Z"
   },
   {
    "duration": 14,
    "start_time": "2024-03-02T19:41:54.816Z"
   },
   {
    "duration": 6,
    "start_time": "2024-03-02T19:41:54.831Z"
   },
   {
    "duration": 5,
    "start_time": "2024-03-02T19:41:54.838Z"
   },
   {
    "duration": 5,
    "start_time": "2024-03-02T19:41:54.844Z"
   },
   {
    "duration": 8,
    "start_time": "2024-03-02T19:41:54.850Z"
   },
   {
    "duration": 404,
    "start_time": "2024-03-02T19:41:54.859Z"
   },
   {
    "duration": 101,
    "start_time": "2024-03-02T19:41:55.265Z"
   },
   {
    "duration": 175,
    "start_time": "2024-03-02T19:41:55.368Z"
   },
   {
    "duration": 324,
    "start_time": "2024-03-02T19:41:55.545Z"
   },
   {
    "duration": 197,
    "start_time": "2024-03-02T19:41:55.871Z"
   },
   {
    "duration": 17,
    "start_time": "2024-03-02T19:41:56.069Z"
   },
   {
    "duration": 28,
    "start_time": "2024-03-02T19:41:56.087Z"
   },
   {
    "duration": 13,
    "start_time": "2024-03-02T19:41:56.116Z"
   },
   {
    "duration": 15,
    "start_time": "2024-03-02T19:41:56.131Z"
   },
   {
    "duration": 636,
    "start_time": "2024-03-02T19:41:56.148Z"
   },
   {
    "duration": 533,
    "start_time": "2024-03-02T19:41:56.785Z"
   },
   {
    "duration": 26,
    "start_time": "2024-03-02T19:41:57.322Z"
   },
   {
    "duration": 14,
    "start_time": "2024-03-02T19:41:57.350Z"
   },
   {
    "duration": 33,
    "start_time": "2024-03-02T19:41:57.365Z"
   },
   {
    "duration": 37,
    "start_time": "2024-03-02T19:41:57.400Z"
   },
   {
    "duration": 9,
    "start_time": "2024-03-02T19:41:57.439Z"
   },
   {
    "duration": 7,
    "start_time": "2024-03-02T20:08:15.924Z"
   },
   {
    "duration": 7,
    "start_time": "2024-03-02T20:09:32.228Z"
   },
   {
    "duration": 832,
    "start_time": "2024-03-03T10:31:12.279Z"
   },
   {
    "duration": 181,
    "start_time": "2024-03-03T10:31:13.113Z"
   },
   {
    "duration": 22,
    "start_time": "2024-03-03T10:31:13.295Z"
   },
   {
    "duration": 13,
    "start_time": "2024-03-03T10:31:13.319Z"
   },
   {
    "duration": 8,
    "start_time": "2024-03-03T10:31:13.333Z"
   },
   {
    "duration": 20,
    "start_time": "2024-03-03T10:31:13.342Z"
   },
   {
    "duration": 26,
    "start_time": "2024-03-03T10:31:13.363Z"
   },
   {
    "duration": 8,
    "start_time": "2024-03-03T10:31:13.391Z"
   },
   {
    "duration": 18,
    "start_time": "2024-03-03T10:31:13.401Z"
   },
   {
    "duration": 7,
    "start_time": "2024-03-03T10:31:13.423Z"
   },
   {
    "duration": 6,
    "start_time": "2024-03-03T10:31:13.432Z"
   },
   {
    "duration": 8,
    "start_time": "2024-03-03T10:31:13.440Z"
   },
   {
    "duration": 20,
    "start_time": "2024-03-03T10:31:13.450Z"
   },
   {
    "duration": 5,
    "start_time": "2024-03-03T10:31:13.472Z"
   },
   {
    "duration": 14,
    "start_time": "2024-03-03T10:31:13.478Z"
   },
   {
    "duration": 9,
    "start_time": "2024-03-03T10:31:13.493Z"
   },
   {
    "duration": 563,
    "start_time": "2024-03-03T10:31:13.504Z"
   },
   {
    "duration": 108,
    "start_time": "2024-03-03T10:31:14.069Z"
   },
   {
    "duration": 221,
    "start_time": "2024-03-03T10:31:14.179Z"
   },
   {
    "duration": 360,
    "start_time": "2024-03-03T10:31:14.401Z"
   },
   {
    "duration": 230,
    "start_time": "2024-03-03T10:31:14.764Z"
   },
   {
    "duration": 19,
    "start_time": "2024-03-03T10:31:14.995Z"
   },
   {
    "duration": 40,
    "start_time": "2024-03-03T10:31:15.015Z"
   },
   {
    "duration": 110,
    "start_time": "2024-03-03T10:31:15.057Z"
   },
   {
    "duration": 13,
    "start_time": "2024-03-03T10:31:15.168Z"
   },
   {
    "duration": 659,
    "start_time": "2024-03-03T10:31:15.182Z"
   },
   {
    "duration": 603,
    "start_time": "2024-03-03T10:31:15.843Z"
   },
   {
    "duration": 131,
    "start_time": "2024-03-03T10:31:16.449Z"
   },
   {
    "duration": 14,
    "start_time": "2024-03-03T10:31:16.582Z"
   },
   {
    "duration": 10,
    "start_time": "2024-03-03T10:31:16.598Z"
   },
   {
    "duration": 21,
    "start_time": "2024-03-03T10:31:16.610Z"
   },
   {
    "duration": 33,
    "start_time": "2024-03-03T10:31:16.633Z"
   },
   {
    "duration": 5,
    "start_time": "2024-03-03T10:31:49.822Z"
   },
   {
    "duration": 6,
    "start_time": "2024-03-03T10:31:57.758Z"
   },
   {
    "duration": 8,
    "start_time": "2024-03-03T10:31:58.645Z"
   },
   {
    "duration": 8,
    "start_time": "2024-03-03T10:32:18.379Z"
   },
   {
    "duration": 9,
    "start_time": "2024-03-03T10:32:19.023Z"
   },
   {
    "duration": 69,
    "start_time": "2024-03-03T16:40:11.289Z"
   },
   {
    "duration": 3,
    "start_time": "2024-03-03T16:40:27.742Z"
   },
   {
    "duration": 89,
    "start_time": "2024-03-03T16:40:55.622Z"
   },
   {
    "duration": 7,
    "start_time": "2024-03-03T16:41:50.401Z"
   },
   {
    "duration": 3,
    "start_time": "2024-03-03T16:42:08.076Z"
   },
   {
    "duration": 43,
    "start_time": "2024-03-03T16:42:13.136Z"
   },
   {
    "duration": 36,
    "start_time": "2024-03-03T16:42:37.466Z"
   },
   {
    "duration": 37,
    "start_time": "2024-03-03T16:42:47.416Z"
   },
   {
    "duration": 44,
    "start_time": "2024-03-03T16:43:52.212Z"
   },
   {
    "duration": 3,
    "start_time": "2024-03-03T16:52:50.017Z"
   },
   {
    "duration": 25,
    "start_time": "2024-03-03T16:52:56.662Z"
   },
   {
    "duration": 109,
    "start_time": "2024-03-03T16:54:18.047Z"
   },
   {
    "duration": 69,
    "start_time": "2024-03-03T16:54:47.060Z"
   },
   {
    "duration": 115,
    "start_time": "2024-03-03T16:55:44.760Z"
   },
   {
    "duration": 184,
    "start_time": "2024-03-03T16:57:38.269Z"
   },
   {
    "duration": 113,
    "start_time": "2024-03-03T17:00:21.168Z"
   },
   {
    "duration": 111,
    "start_time": "2024-03-03T17:00:27.632Z"
   },
   {
    "duration": 12,
    "start_time": "2024-03-03T17:30:03.204Z"
   },
   {
    "duration": 13,
    "start_time": "2024-03-03T17:34:26.287Z"
   },
   {
    "duration": 2,
    "start_time": "2024-03-03T17:36:13.686Z"
   },
   {
    "duration": 12,
    "start_time": "2024-03-03T17:36:18.652Z"
   },
   {
    "duration": 11,
    "start_time": "2024-03-03T17:37:55.687Z"
   },
   {
    "duration": 11,
    "start_time": "2024-03-03T17:40:10.847Z"
   },
   {
    "duration": 12,
    "start_time": "2024-03-03T17:40:35.692Z"
   },
   {
    "duration": 953,
    "start_time": "2024-03-03T17:40:40.204Z"
   },
   {
    "duration": 104,
    "start_time": "2024-03-03T17:40:41.158Z"
   },
   {
    "duration": 21,
    "start_time": "2024-03-03T17:40:41.264Z"
   },
   {
    "duration": 11,
    "start_time": "2024-03-03T17:40:41.287Z"
   },
   {
    "duration": 8,
    "start_time": "2024-03-03T17:40:41.299Z"
   },
   {
    "duration": 13,
    "start_time": "2024-03-03T17:40:41.308Z"
   },
   {
    "duration": 16,
    "start_time": "2024-03-03T17:40:41.322Z"
   },
   {
    "duration": 11,
    "start_time": "2024-03-03T17:40:41.339Z"
   },
   {
    "duration": 23,
    "start_time": "2024-03-03T17:40:41.351Z"
   },
   {
    "duration": 7,
    "start_time": "2024-03-03T17:40:41.376Z"
   },
   {
    "duration": 12,
    "start_time": "2024-03-03T17:40:41.384Z"
   },
   {
    "duration": 11,
    "start_time": "2024-03-03T17:40:41.397Z"
   },
   {
    "duration": 26,
    "start_time": "2024-03-03T17:40:41.410Z"
   },
   {
    "duration": 9,
    "start_time": "2024-03-03T17:40:41.437Z"
   },
   {
    "duration": 28,
    "start_time": "2024-03-03T17:40:41.448Z"
   },
   {
    "duration": 30,
    "start_time": "2024-03-03T17:40:41.477Z"
   },
   {
    "duration": 96,
    "start_time": "2024-03-03T17:40:41.508Z"
   },
   {
    "duration": 0,
    "start_time": "2024-03-03T17:40:41.605Z"
   },
   {
    "duration": 0,
    "start_time": "2024-03-03T17:40:41.606Z"
   },
   {
    "duration": 0,
    "start_time": "2024-03-03T17:40:41.607Z"
   },
   {
    "duration": 0,
    "start_time": "2024-03-03T17:40:41.607Z"
   },
   {
    "duration": 0,
    "start_time": "2024-03-03T17:40:41.608Z"
   },
   {
    "duration": 0,
    "start_time": "2024-03-03T17:40:41.609Z"
   },
   {
    "duration": 0,
    "start_time": "2024-03-03T17:40:41.610Z"
   },
   {
    "duration": 0,
    "start_time": "2024-03-03T17:40:41.610Z"
   },
   {
    "duration": 0,
    "start_time": "2024-03-03T17:40:41.612Z"
   },
   {
    "duration": 0,
    "start_time": "2024-03-03T17:40:41.612Z"
   },
   {
    "duration": 0,
    "start_time": "2024-03-03T17:40:41.613Z"
   },
   {
    "duration": 0,
    "start_time": "2024-03-03T17:40:41.614Z"
   },
   {
    "duration": 0,
    "start_time": "2024-03-03T17:40:41.615Z"
   },
   {
    "duration": 0,
    "start_time": "2024-03-03T17:40:41.615Z"
   },
   {
    "duration": 0,
    "start_time": "2024-03-03T17:40:41.616Z"
   },
   {
    "duration": 11,
    "start_time": "2024-03-03T17:42:55.464Z"
   },
   {
    "duration": 8,
    "start_time": "2024-03-03T17:44:34.902Z"
   },
   {
    "duration": 73,
    "start_time": "2024-03-03T17:45:14.557Z"
   },
   {
    "duration": 8,
    "start_time": "2024-03-03T17:46:24.973Z"
   },
   {
    "duration": 7,
    "start_time": "2024-03-03T17:46:39.127Z"
   },
   {
    "duration": 70,
    "start_time": "2024-03-03T17:52:18.023Z"
   },
   {
    "duration": 60,
    "start_time": "2024-03-03T17:52:29.716Z"
   },
   {
    "duration": 65,
    "start_time": "2024-03-03T17:53:17.738Z"
   },
   {
    "duration": 67,
    "start_time": "2024-03-03T17:55:46.792Z"
   },
   {
    "duration": 9,
    "start_time": "2024-03-03T17:55:59.893Z"
   },
   {
    "duration": 8,
    "start_time": "2024-03-03T18:02:28.706Z"
   },
   {
    "duration": 12,
    "start_time": "2024-03-03T18:03:07.307Z"
   },
   {
    "duration": 14,
    "start_time": "2024-03-03T18:04:45.009Z"
   },
   {
    "duration": 13,
    "start_time": "2024-03-03T18:05:13.460Z"
   },
   {
    "duration": 12,
    "start_time": "2024-03-03T18:08:39.036Z"
   },
   {
    "duration": 9,
    "start_time": "2024-03-03T18:10:23.094Z"
   },
   {
    "duration": 8,
    "start_time": "2024-03-03T18:11:00.222Z"
   },
   {
    "duration": 12,
    "start_time": "2024-03-03T18:11:06.580Z"
   },
   {
    "duration": 14,
    "start_time": "2024-03-03T18:11:27.364Z"
   },
   {
    "duration": 12,
    "start_time": "2024-03-03T18:11:39.053Z"
   },
   {
    "duration": 11,
    "start_time": "2024-03-03T18:24:18.249Z"
   },
   {
    "duration": 12,
    "start_time": "2024-03-03T18:26:39.116Z"
   },
   {
    "duration": 155,
    "start_time": "2024-03-03T18:30:46.483Z"
   },
   {
    "duration": 118,
    "start_time": "2024-03-03T18:31:00.956Z"
   },
   {
    "duration": 154,
    "start_time": "2024-03-03T18:31:12.333Z"
   },
   {
    "duration": 153,
    "start_time": "2024-03-03T18:39:05.993Z"
   },
   {
    "duration": 150,
    "start_time": "2024-03-03T18:39:14.435Z"
   },
   {
    "duration": 159,
    "start_time": "2024-03-03T18:39:35.073Z"
   },
   {
    "duration": 11,
    "start_time": "2024-03-03T18:39:58.925Z"
   },
   {
    "duration": 162,
    "start_time": "2024-03-03T18:40:10.497Z"
   },
   {
    "duration": 182,
    "start_time": "2024-03-03T18:41:19.906Z"
   },
   {
    "duration": 11,
    "start_time": "2024-03-03T18:42:07.670Z"
   },
   {
    "duration": 13,
    "start_time": "2024-03-03T18:57:33.961Z"
   },
   {
    "duration": 13,
    "start_time": "2024-03-03T18:59:39.791Z"
   },
   {
    "duration": 130,
    "start_time": "2024-03-03T18:59:59.841Z"
   },
   {
    "duration": 140,
    "start_time": "2024-03-03T19:00:07.734Z"
   },
   {
    "duration": 173,
    "start_time": "2024-03-03T19:00:17.574Z"
   },
   {
    "duration": 194,
    "start_time": "2024-03-03T19:01:51.129Z"
   },
   {
    "duration": 104,
    "start_time": "2024-03-03T19:02:13.028Z"
   },
   {
    "duration": 133,
    "start_time": "2024-03-03T19:03:20.815Z"
   },
   {
    "duration": 137,
    "start_time": "2024-03-03T19:05:29.491Z"
   },
   {
    "duration": 121,
    "start_time": "2024-03-03T19:05:45.017Z"
   },
   {
    "duration": 147,
    "start_time": "2024-03-03T19:06:01.807Z"
   },
   {
    "duration": 9,
    "start_time": "2024-03-03T19:06:44.861Z"
   },
   {
    "duration": 138,
    "start_time": "2024-03-03T19:07:48.002Z"
   },
   {
    "duration": 8,
    "start_time": "2024-03-03T19:10:04.213Z"
   },
   {
    "duration": 7,
    "start_time": "2024-03-03T19:10:13.737Z"
   },
   {
    "duration": 983,
    "start_time": "2024-03-03T19:10:29.207Z"
   },
   {
    "duration": 112,
    "start_time": "2024-03-03T19:10:30.191Z"
   },
   {
    "duration": 36,
    "start_time": "2024-03-03T19:10:30.305Z"
   },
   {
    "duration": 54,
    "start_time": "2024-03-03T19:10:30.342Z"
   },
   {
    "duration": 43,
    "start_time": "2024-03-03T19:10:30.398Z"
   },
   {
    "duration": 48,
    "start_time": "2024-03-03T19:10:30.442Z"
   },
   {
    "duration": 75,
    "start_time": "2024-03-03T19:10:30.492Z"
   },
   {
    "duration": 44,
    "start_time": "2024-03-03T19:10:30.569Z"
   },
   {
    "duration": 32,
    "start_time": "2024-03-03T19:10:30.614Z"
   },
   {
    "duration": 43,
    "start_time": "2024-03-03T19:10:30.647Z"
   },
   {
    "duration": 47,
    "start_time": "2024-03-03T19:10:30.692Z"
   },
   {
    "duration": 51,
    "start_time": "2024-03-03T19:10:30.741Z"
   },
   {
    "duration": 60,
    "start_time": "2024-03-03T19:10:30.794Z"
   },
   {
    "duration": 46,
    "start_time": "2024-03-03T19:10:30.856Z"
   },
   {
    "duration": 60,
    "start_time": "2024-03-03T19:10:30.904Z"
   },
   {
    "duration": 59,
    "start_time": "2024-03-03T19:10:30.965Z"
   },
   {
    "duration": 191,
    "start_time": "2024-03-03T19:10:31.025Z"
   },
   {
    "duration": 93,
    "start_time": "2024-03-03T19:10:31.218Z"
   },
   {
    "duration": 289,
    "start_time": "2024-03-03T19:10:31.312Z"
   },
   {
    "duration": 290,
    "start_time": "2024-03-03T19:10:31.603Z"
   },
   {
    "duration": 188,
    "start_time": "2024-03-03T19:10:31.894Z"
   },
   {
    "duration": 107,
    "start_time": "2024-03-03T19:10:32.083Z"
   },
   {
    "duration": 22,
    "start_time": "2024-03-03T19:10:32.192Z"
   },
   {
    "duration": 16,
    "start_time": "2024-03-03T19:10:32.215Z"
   },
   {
    "duration": 30,
    "start_time": "2024-03-03T19:10:32.232Z"
   },
   {
    "duration": 21,
    "start_time": "2024-03-03T19:10:32.263Z"
   },
   {
    "duration": 15,
    "start_time": "2024-03-03T19:10:32.286Z"
   },
   {
    "duration": 571,
    "start_time": "2024-03-03T19:10:32.302Z"
   },
   {
    "duration": 518,
    "start_time": "2024-03-03T19:10:32.874Z"
   },
   {
    "duration": 95,
    "start_time": "2024-03-03T19:10:33.393Z"
   },
   {
    "duration": 15,
    "start_time": "2024-03-03T19:10:33.490Z"
   },
   {
    "duration": 3,
    "start_time": "2024-03-03T19:10:33.506Z"
   },
   {
    "duration": 4,
    "start_time": "2024-03-03T19:10:33.510Z"
   },
   {
    "duration": 14,
    "start_time": "2024-03-03T19:10:33.515Z"
   },
   {
    "duration": 72,
    "start_time": "2024-03-03T19:15:49.528Z"
   },
   {
    "duration": 70,
    "start_time": "2024-03-03T19:15:59.836Z"
   },
   {
    "duration": 65,
    "start_time": "2024-03-03T19:16:06.463Z"
   },
   {
    "duration": 70,
    "start_time": "2024-03-03T19:16:16.663Z"
   },
   {
    "duration": 95,
    "start_time": "2024-03-03T19:16:34.917Z"
   },
   {
    "duration": 72,
    "start_time": "2024-03-03T19:18:29.335Z"
   },
   {
    "duration": 945,
    "start_time": "2024-03-03T19:18:50.028Z"
   },
   {
    "duration": 98,
    "start_time": "2024-03-03T19:18:50.974Z"
   },
   {
    "duration": 18,
    "start_time": "2024-03-03T19:18:51.073Z"
   },
   {
    "duration": 9,
    "start_time": "2024-03-03T19:18:51.093Z"
   },
   {
    "duration": 7,
    "start_time": "2024-03-03T19:18:51.104Z"
   },
   {
    "duration": 17,
    "start_time": "2024-03-03T19:18:51.112Z"
   },
   {
    "duration": 16,
    "start_time": "2024-03-03T19:18:51.130Z"
   },
   {
    "duration": 6,
    "start_time": "2024-03-03T19:18:51.148Z"
   },
   {
    "duration": 14,
    "start_time": "2024-03-03T19:18:51.155Z"
   },
   {
    "duration": 4,
    "start_time": "2024-03-03T19:18:51.171Z"
   },
   {
    "duration": 13,
    "start_time": "2024-03-03T19:18:51.177Z"
   },
   {
    "duration": 10,
    "start_time": "2024-03-03T19:18:51.202Z"
   },
   {
    "duration": 8,
    "start_time": "2024-03-03T19:18:51.213Z"
   },
   {
    "duration": 4,
    "start_time": "2024-03-03T19:18:51.222Z"
   },
   {
    "duration": 12,
    "start_time": "2024-03-03T19:18:51.227Z"
   },
   {
    "duration": 13,
    "start_time": "2024-03-03T19:18:51.240Z"
   },
   {
    "duration": 159,
    "start_time": "2024-03-03T19:18:51.254Z"
   },
   {
    "duration": 106,
    "start_time": "2024-03-03T19:18:51.414Z"
   },
   {
    "duration": 161,
    "start_time": "2024-03-03T19:18:51.521Z"
   },
   {
    "duration": 276,
    "start_time": "2024-03-03T19:18:51.684Z"
   },
   {
    "duration": 200,
    "start_time": "2024-03-03T19:18:51.962Z"
   },
   {
    "duration": 108,
    "start_time": "2024-03-03T19:18:52.163Z"
   },
   {
    "duration": 29,
    "start_time": "2024-03-03T19:18:52.273Z"
   },
   {
    "duration": 17,
    "start_time": "2024-03-03T19:18:52.303Z"
   },
   {
    "duration": 7,
    "start_time": "2024-03-03T19:18:52.322Z"
   },
   {
    "duration": 17,
    "start_time": "2024-03-03T19:18:52.330Z"
   },
   {
    "duration": 11,
    "start_time": "2024-03-03T19:18:52.349Z"
   },
   {
    "duration": 944,
    "start_time": "2024-03-03T19:19:26.366Z"
   },
   {
    "duration": 103,
    "start_time": "2024-03-03T19:19:27.312Z"
   },
   {
    "duration": 19,
    "start_time": "2024-03-03T19:19:27.416Z"
   },
   {
    "duration": 9,
    "start_time": "2024-03-03T19:19:27.437Z"
   },
   {
    "duration": 22,
    "start_time": "2024-03-03T19:19:27.447Z"
   },
   {
    "duration": 25,
    "start_time": "2024-03-03T19:19:27.470Z"
   },
   {
    "duration": 32,
    "start_time": "2024-03-03T19:19:27.496Z"
   },
   {
    "duration": 14,
    "start_time": "2024-03-03T19:19:27.530Z"
   },
   {
    "duration": 18,
    "start_time": "2024-03-03T19:19:27.545Z"
   },
   {
    "duration": 7,
    "start_time": "2024-03-03T19:19:27.565Z"
   },
   {
    "duration": 14,
    "start_time": "2024-03-03T19:19:27.573Z"
   },
   {
    "duration": 23,
    "start_time": "2024-03-03T19:19:27.588Z"
   },
   {
    "duration": 22,
    "start_time": "2024-03-03T19:19:27.612Z"
   },
   {
    "duration": 5,
    "start_time": "2024-03-03T19:19:27.635Z"
   },
   {
    "duration": 7,
    "start_time": "2024-03-03T19:19:27.641Z"
   },
   {
    "duration": 10,
    "start_time": "2024-03-03T19:19:27.649Z"
   },
   {
    "duration": 152,
    "start_time": "2024-03-03T19:19:27.660Z"
   },
   {
    "duration": 94,
    "start_time": "2024-03-03T19:19:27.814Z"
   },
   {
    "duration": 162,
    "start_time": "2024-03-03T19:19:27.909Z"
   },
   {
    "duration": 286,
    "start_time": "2024-03-03T19:19:28.073Z"
   },
   {
    "duration": 192,
    "start_time": "2024-03-03T19:19:28.361Z"
   },
   {
    "duration": 110,
    "start_time": "2024-03-03T19:19:28.555Z"
   },
   {
    "duration": 15,
    "start_time": "2024-03-03T19:19:28.667Z"
   },
   {
    "duration": 25,
    "start_time": "2024-03-03T19:19:28.683Z"
   },
   {
    "duration": 7,
    "start_time": "2024-03-03T19:19:28.709Z"
   },
   {
    "duration": 17,
    "start_time": "2024-03-03T19:19:28.717Z"
   },
   {
    "duration": 11,
    "start_time": "2024-03-03T19:19:28.735Z"
   },
   {
    "duration": 946,
    "start_time": "2024-03-03T19:20:42.729Z"
   },
   {
    "duration": 74,
    "start_time": "2024-03-03T19:20:43.676Z"
   },
   {
    "duration": 19,
    "start_time": "2024-03-03T19:20:43.751Z"
   },
   {
    "duration": 10,
    "start_time": "2024-03-03T19:20:43.772Z"
   },
   {
    "duration": 11,
    "start_time": "2024-03-03T19:20:43.783Z"
   },
   {
    "duration": 17,
    "start_time": "2024-03-03T19:20:43.795Z"
   },
   {
    "duration": 12,
    "start_time": "2024-03-03T19:20:43.813Z"
   },
   {
    "duration": 5,
    "start_time": "2024-03-03T19:20:43.827Z"
   },
   {
    "duration": 12,
    "start_time": "2024-03-03T19:20:43.834Z"
   },
   {
    "duration": 5,
    "start_time": "2024-03-03T19:20:43.848Z"
   },
   {
    "duration": 6,
    "start_time": "2024-03-03T19:20:43.854Z"
   },
   {
    "duration": 18,
    "start_time": "2024-03-03T19:20:43.862Z"
   },
   {
    "duration": 10,
    "start_time": "2024-03-03T19:20:43.881Z"
   },
   {
    "duration": 4,
    "start_time": "2024-03-03T19:20:43.901Z"
   },
   {
    "duration": 18,
    "start_time": "2024-03-03T19:20:43.907Z"
   },
   {
    "duration": 11,
    "start_time": "2024-03-03T19:20:43.927Z"
   },
   {
    "duration": 141,
    "start_time": "2024-03-03T19:20:43.939Z"
   },
   {
    "duration": 92,
    "start_time": "2024-03-03T19:20:44.081Z"
   },
   {
    "duration": 161,
    "start_time": "2024-03-03T19:20:44.174Z"
   },
   {
    "duration": 278,
    "start_time": "2024-03-03T19:20:44.336Z"
   },
   {
    "duration": 198,
    "start_time": "2024-03-03T19:20:44.616Z"
   },
   {
    "duration": 112,
    "start_time": "2024-03-03T19:20:44.816Z"
   },
   {
    "duration": 16,
    "start_time": "2024-03-03T19:20:44.930Z"
   },
   {
    "duration": 15,
    "start_time": "2024-03-03T19:20:44.948Z"
   },
   {
    "duration": 8,
    "start_time": "2024-03-03T19:20:44.965Z"
   },
   {
    "duration": 35,
    "start_time": "2024-03-03T19:20:44.974Z"
   },
   {
    "duration": 12,
    "start_time": "2024-03-03T19:20:45.010Z"
   },
   {
    "duration": 955,
    "start_time": "2024-03-03T19:23:09.023Z"
   },
   {
    "duration": 103,
    "start_time": "2024-03-03T19:23:09.979Z"
   },
   {
    "duration": 19,
    "start_time": "2024-03-03T19:23:10.083Z"
   },
   {
    "duration": 13,
    "start_time": "2024-03-03T19:23:10.104Z"
   },
   {
    "duration": 9,
    "start_time": "2024-03-03T19:23:10.119Z"
   },
   {
    "duration": 13,
    "start_time": "2024-03-03T19:23:10.129Z"
   },
   {
    "duration": 15,
    "start_time": "2024-03-03T19:23:10.143Z"
   },
   {
    "duration": 7,
    "start_time": "2024-03-03T19:23:10.160Z"
   },
   {
    "duration": 9,
    "start_time": "2024-03-03T19:23:10.169Z"
   },
   {
    "duration": 6,
    "start_time": "2024-03-03T19:23:10.203Z"
   },
   {
    "duration": 13,
    "start_time": "2024-03-03T19:23:10.210Z"
   },
   {
    "duration": 7,
    "start_time": "2024-03-03T19:23:10.225Z"
   },
   {
    "duration": 5,
    "start_time": "2024-03-03T19:23:10.234Z"
   },
   {
    "duration": 10,
    "start_time": "2024-03-03T19:23:10.241Z"
   },
   {
    "duration": 6,
    "start_time": "2024-03-03T19:23:10.253Z"
   },
   {
    "duration": 9,
    "start_time": "2024-03-03T19:23:10.261Z"
   },
   {
    "duration": 203,
    "start_time": "2024-03-03T19:23:10.271Z"
   },
   {
    "duration": 91,
    "start_time": "2024-03-03T19:23:10.476Z"
   },
   {
    "duration": 171,
    "start_time": "2024-03-03T19:23:10.568Z"
   },
   {
    "duration": 295,
    "start_time": "2024-03-03T19:23:10.740Z"
   },
   {
    "duration": 205,
    "start_time": "2024-03-03T19:23:11.036Z"
   },
   {
    "duration": 117,
    "start_time": "2024-03-03T19:23:11.242Z"
   },
   {
    "duration": 20,
    "start_time": "2024-03-03T19:23:11.361Z"
   },
   {
    "duration": 29,
    "start_time": "2024-03-03T19:23:11.382Z"
   },
   {
    "duration": 9,
    "start_time": "2024-03-03T19:23:11.412Z"
   },
   {
    "duration": 37,
    "start_time": "2024-03-03T19:23:11.423Z"
   },
   {
    "duration": 16,
    "start_time": "2024-03-03T19:23:11.462Z"
   },
   {
    "duration": 161681,
    "start_time": "2024-03-03T19:25:49.838Z"
   },
   {
    "duration": 519,
    "start_time": "2024-03-03T19:28:31.520Z"
   },
   {
    "duration": 41,
    "start_time": "2024-03-03T19:28:32.040Z"
   },
   {
    "duration": 12,
    "start_time": "2024-03-03T19:28:32.082Z"
   },
   {
    "duration": 15,
    "start_time": "2024-03-03T19:28:32.096Z"
   },
   {
    "duration": 13,
    "start_time": "2024-03-03T19:28:32.112Z"
   },
   {
    "duration": 10,
    "start_time": "2024-03-03T19:28:32.126Z"
   },
   {
    "duration": 93899,
    "start_time": "2024-03-03T19:28:32.425Z"
   },
   {
    "duration": 978,
    "start_time": "2024-03-03T19:41:35.783Z"
   },
   {
    "duration": 77,
    "start_time": "2024-03-03T19:41:36.762Z"
   },
   {
    "duration": 20,
    "start_time": "2024-03-03T19:41:36.840Z"
   },
   {
    "duration": 13,
    "start_time": "2024-03-03T19:41:36.862Z"
   },
   {
    "duration": 68,
    "start_time": "2024-03-03T19:41:36.876Z"
   },
   {
    "duration": 32,
    "start_time": "2024-03-03T19:41:36.945Z"
   },
   {
    "duration": 23,
    "start_time": "2024-03-03T19:41:36.978Z"
   },
   {
    "duration": 17,
    "start_time": "2024-03-03T19:41:37.002Z"
   },
   {
    "duration": 19,
    "start_time": "2024-03-03T19:41:37.020Z"
   },
   {
    "duration": 4,
    "start_time": "2024-03-03T19:41:37.041Z"
   },
   {
    "duration": 13,
    "start_time": "2024-03-03T19:41:37.046Z"
   },
   {
    "duration": 21,
    "start_time": "2024-03-03T19:41:37.060Z"
   },
   {
    "duration": 7,
    "start_time": "2024-03-03T19:41:37.082Z"
   },
   {
    "duration": 9,
    "start_time": "2024-03-03T19:41:37.090Z"
   },
   {
    "duration": 7,
    "start_time": "2024-03-03T19:41:37.100Z"
   },
   {
    "duration": 19,
    "start_time": "2024-03-03T19:41:37.109Z"
   },
   {
    "duration": 164,
    "start_time": "2024-03-03T19:41:37.129Z"
   },
   {
    "duration": 89,
    "start_time": "2024-03-03T19:41:37.295Z"
   },
   {
    "duration": 166,
    "start_time": "2024-03-03T19:41:37.385Z"
   },
   {
    "duration": 296,
    "start_time": "2024-03-03T19:41:37.552Z"
   },
   {
    "duration": 199,
    "start_time": "2024-03-03T19:41:37.850Z"
   },
   {
    "duration": 112,
    "start_time": "2024-03-03T19:41:38.050Z"
   },
   {
    "duration": 15,
    "start_time": "2024-03-03T19:41:38.163Z"
   },
   {
    "duration": 25,
    "start_time": "2024-03-03T19:41:38.180Z"
   },
   {
    "duration": 6,
    "start_time": "2024-03-03T19:41:38.206Z"
   },
   {
    "duration": 14,
    "start_time": "2024-03-03T19:41:38.213Z"
   },
   {
    "duration": 10,
    "start_time": "2024-03-03T19:41:38.228Z"
   },
   {
    "duration": 91663,
    "start_time": "2024-03-03T19:41:38.240Z"
   },
   {
    "duration": 158552,
    "start_time": "2024-03-03T19:43:09.904Z"
   },
   {
    "duration": 529,
    "start_time": "2024-03-03T19:45:48.457Z"
   },
   {
    "duration": 32,
    "start_time": "2024-03-03T19:45:48.988Z"
   },
   {
    "duration": 14,
    "start_time": "2024-03-03T19:45:49.021Z"
   },
   {
    "duration": 25,
    "start_time": "2024-03-03T19:45:49.036Z"
   },
   {
    "duration": 21,
    "start_time": "2024-03-03T19:45:49.063Z"
   },
   {
    "duration": 11,
    "start_time": "2024-03-03T19:45:49.086Z"
   },
   {
    "duration": 128,
    "start_time": "2024-03-04T07:48:58.780Z"
   },
   {
    "duration": 113996,
    "start_time": "2024-03-04T07:48:58.909Z"
   },
   {
    "duration": 127,
    "start_time": "2024-03-04T07:50:52.906Z"
   },
   {
    "duration": 984,
    "start_time": "2024-03-04T07:56:13.396Z"
   },
   {
    "duration": 106,
    "start_time": "2024-03-04T07:56:14.382Z"
   },
   {
    "duration": 20,
    "start_time": "2024-03-04T07:56:14.490Z"
   },
   {
    "duration": 10,
    "start_time": "2024-03-04T07:56:14.513Z"
   },
   {
    "duration": 16,
    "start_time": "2024-03-04T07:56:14.525Z"
   },
   {
    "duration": 12,
    "start_time": "2024-03-04T07:56:14.542Z"
   },
   {
    "duration": 19,
    "start_time": "2024-03-04T07:56:14.555Z"
   },
   {
    "duration": 6,
    "start_time": "2024-03-04T07:56:14.576Z"
   },
   {
    "duration": 18,
    "start_time": "2024-03-04T07:56:14.584Z"
   },
   {
    "duration": 5,
    "start_time": "2024-03-04T07:56:14.605Z"
   },
   {
    "duration": 9,
    "start_time": "2024-03-04T07:56:14.611Z"
   },
   {
    "duration": 22,
    "start_time": "2024-03-04T07:56:14.621Z"
   },
   {
    "duration": 11,
    "start_time": "2024-03-04T07:56:14.644Z"
   },
   {
    "duration": 16,
    "start_time": "2024-03-04T07:56:14.657Z"
   },
   {
    "duration": 35,
    "start_time": "2024-03-04T07:56:14.674Z"
   },
   {
    "duration": 31,
    "start_time": "2024-03-04T07:56:14.711Z"
   },
   {
    "duration": 157,
    "start_time": "2024-03-04T07:56:14.744Z"
   },
   {
    "duration": 85,
    "start_time": "2024-03-04T07:56:14.903Z"
   },
   {
    "duration": 185,
    "start_time": "2024-03-04T07:56:14.990Z"
   },
   {
    "duration": 309,
    "start_time": "2024-03-04T07:56:15.176Z"
   },
   {
    "duration": 193,
    "start_time": "2024-03-04T07:56:15.486Z"
   },
   {
    "duration": 110,
    "start_time": "2024-03-04T07:56:15.680Z"
   },
   {
    "duration": 24,
    "start_time": "2024-03-04T07:56:15.791Z"
   },
   {
    "duration": 18,
    "start_time": "2024-03-04T07:56:15.817Z"
   },
   {
    "duration": 8,
    "start_time": "2024-03-04T07:56:15.836Z"
   },
   {
    "duration": 28,
    "start_time": "2024-03-04T07:56:15.845Z"
   },
   {
    "duration": 34,
    "start_time": "2024-03-04T07:56:15.875Z"
   },
   {
    "duration": 108506,
    "start_time": "2024-03-04T07:56:15.912Z"
   },
   {
    "duration": 170,
    "start_time": "2024-03-04T07:58:04.419Z"
   },
   {
    "duration": 1449,
    "start_time": "2024-03-04T07:58:04.590Z"
   },
   {
    "duration": 26,
    "start_time": "2024-03-04T07:58:06.041Z"
   },
   {
    "duration": 12,
    "start_time": "2024-03-04T07:58:06.068Z"
   },
   {
    "duration": 19,
    "start_time": "2024-03-04T07:58:06.082Z"
   },
   {
    "duration": 20,
    "start_time": "2024-03-04T07:58:06.103Z"
   },
   {
    "duration": 12,
    "start_time": "2024-03-04T07:58:06.124Z"
   },
   {
    "duration": 922,
    "start_time": "2024-03-04T08:01:32.046Z"
   },
   {
    "duration": 105,
    "start_time": "2024-03-04T08:01:32.969Z"
   },
   {
    "duration": 23,
    "start_time": "2024-03-04T08:01:33.075Z"
   },
   {
    "duration": 15,
    "start_time": "2024-03-04T08:01:33.100Z"
   },
   {
    "duration": 7,
    "start_time": "2024-03-04T08:01:33.117Z"
   },
   {
    "duration": 9,
    "start_time": "2024-03-04T08:01:33.125Z"
   },
   {
    "duration": 12,
    "start_time": "2024-03-04T08:01:33.136Z"
   },
   {
    "duration": 7,
    "start_time": "2024-03-04T08:01:33.149Z"
   },
   {
    "duration": 9,
    "start_time": "2024-03-04T08:01:33.157Z"
   },
   {
    "duration": 5,
    "start_time": "2024-03-04T08:01:33.168Z"
   },
   {
    "duration": 31,
    "start_time": "2024-03-04T08:01:33.174Z"
   },
   {
    "duration": 7,
    "start_time": "2024-03-04T08:01:33.206Z"
   },
   {
    "duration": 5,
    "start_time": "2024-03-04T08:01:33.214Z"
   },
   {
    "duration": 4,
    "start_time": "2024-03-04T08:01:33.220Z"
   },
   {
    "duration": 5,
    "start_time": "2024-03-04T08:01:33.225Z"
   },
   {
    "duration": 20,
    "start_time": "2024-03-04T08:01:33.231Z"
   },
   {
    "duration": 159,
    "start_time": "2024-03-04T08:01:33.252Z"
   },
   {
    "duration": 92,
    "start_time": "2024-03-04T08:01:33.412Z"
   },
   {
    "duration": 160,
    "start_time": "2024-03-04T08:01:33.506Z"
   },
   {
    "duration": 303,
    "start_time": "2024-03-04T08:01:33.668Z"
   },
   {
    "duration": 197,
    "start_time": "2024-03-04T08:01:33.972Z"
   },
   {
    "duration": 112,
    "start_time": "2024-03-04T08:01:34.170Z"
   },
   {
    "duration": 23,
    "start_time": "2024-03-04T08:01:34.283Z"
   },
   {
    "duration": 20,
    "start_time": "2024-03-04T08:01:34.307Z"
   },
   {
    "duration": 16,
    "start_time": "2024-03-04T08:01:34.329Z"
   },
   {
    "duration": 16,
    "start_time": "2024-03-04T08:01:34.346Z"
   },
   {
    "duration": 17,
    "start_time": "2024-03-04T08:01:34.363Z"
   },
   {
    "duration": 108659,
    "start_time": "2024-03-04T08:01:34.382Z"
   },
   {
    "duration": 131,
    "start_time": "2024-03-04T08:03:23.042Z"
   },
   {
    "duration": 1462,
    "start_time": "2024-03-04T08:03:23.174Z"
   },
   {
    "duration": 45,
    "start_time": "2024-03-04T08:03:24.638Z"
   },
   {
    "duration": 13,
    "start_time": "2024-03-04T08:03:24.684Z"
   },
   {
    "duration": 19,
    "start_time": "2024-03-04T08:03:24.698Z"
   },
   {
    "duration": 20,
    "start_time": "2024-03-04T08:03:24.718Z"
   },
   {
    "duration": 28,
    "start_time": "2024-03-04T08:03:24.739Z"
   },
   {
    "duration": 567,
    "start_time": "2024-03-04T08:06:56.950Z"
   },
   {
    "duration": 651,
    "start_time": "2024-03-04T08:08:03.383Z"
   },
   {
    "duration": 938,
    "start_time": "2024-03-04T08:08:41.740Z"
   },
   {
    "duration": 78,
    "start_time": "2024-03-04T08:08:42.680Z"
   },
   {
    "duration": 20,
    "start_time": "2024-03-04T08:08:42.759Z"
   },
   {
    "duration": 9,
    "start_time": "2024-03-04T08:08:42.781Z"
   },
   {
    "duration": 40,
    "start_time": "2024-03-04T08:08:42.791Z"
   },
   {
    "duration": 21,
    "start_time": "2024-03-04T08:08:42.832Z"
   },
   {
    "duration": 22,
    "start_time": "2024-03-04T08:08:42.854Z"
   },
   {
    "duration": 25,
    "start_time": "2024-03-04T08:08:42.877Z"
   },
   {
    "duration": 28,
    "start_time": "2024-03-04T08:08:42.903Z"
   },
   {
    "duration": 6,
    "start_time": "2024-03-04T08:08:42.933Z"
   },
   {
    "duration": 33,
    "start_time": "2024-03-04T08:08:42.941Z"
   },
   {
    "duration": 14,
    "start_time": "2024-03-04T08:08:42.975Z"
   },
   {
    "duration": 14,
    "start_time": "2024-03-04T08:08:42.991Z"
   },
   {
    "duration": 13,
    "start_time": "2024-03-04T08:08:43.006Z"
   },
   {
    "duration": 24,
    "start_time": "2024-03-04T08:08:43.020Z"
   },
   {
    "duration": 23,
    "start_time": "2024-03-04T08:08:43.046Z"
   },
   {
    "duration": 151,
    "start_time": "2024-03-04T08:08:43.070Z"
   },
   {
    "duration": 97,
    "start_time": "2024-03-04T08:08:43.222Z"
   },
   {
    "duration": 166,
    "start_time": "2024-03-04T08:08:43.320Z"
   },
   {
    "duration": 296,
    "start_time": "2024-03-04T08:08:43.488Z"
   },
   {
    "duration": 209,
    "start_time": "2024-03-04T08:08:43.786Z"
   },
   {
    "duration": 119,
    "start_time": "2024-03-04T08:08:44.001Z"
   },
   {
    "duration": 17,
    "start_time": "2024-03-04T08:08:44.122Z"
   },
   {
    "duration": 42,
    "start_time": "2024-03-04T08:08:44.140Z"
   },
   {
    "duration": 13,
    "start_time": "2024-03-04T08:08:44.184Z"
   },
   {
    "duration": 25,
    "start_time": "2024-03-04T08:08:44.199Z"
   },
   {
    "duration": 12,
    "start_time": "2024-03-04T08:08:44.225Z"
   },
   {
    "duration": 1011,
    "start_time": "2024-03-04T08:09:40.867Z"
   },
   {
    "duration": 104,
    "start_time": "2024-03-04T08:09:41.879Z"
   },
   {
    "duration": 21,
    "start_time": "2024-03-04T08:09:41.984Z"
   },
   {
    "duration": 12,
    "start_time": "2024-03-04T08:09:42.007Z"
   },
   {
    "duration": 21,
    "start_time": "2024-03-04T08:09:42.020Z"
   },
   {
    "duration": 32,
    "start_time": "2024-03-04T08:09:42.042Z"
   },
   {
    "duration": 30,
    "start_time": "2024-03-04T08:09:42.076Z"
   },
   {
    "duration": 16,
    "start_time": "2024-03-04T08:09:42.107Z"
   },
   {
    "duration": 17,
    "start_time": "2024-03-04T08:09:42.124Z"
   },
   {
    "duration": 5,
    "start_time": "2024-03-04T08:09:42.143Z"
   },
   {
    "duration": 42,
    "start_time": "2024-03-04T08:09:42.149Z"
   },
   {
    "duration": 51,
    "start_time": "2024-03-04T08:09:42.192Z"
   },
   {
    "duration": 24,
    "start_time": "2024-03-04T08:09:42.244Z"
   },
   {
    "duration": 31,
    "start_time": "2024-03-04T08:09:42.269Z"
   },
   {
    "duration": 64,
    "start_time": "2024-03-04T08:09:42.301Z"
   },
   {
    "duration": 63,
    "start_time": "2024-03-04T08:09:42.366Z"
   },
   {
    "duration": 160,
    "start_time": "2024-03-04T08:09:42.431Z"
   },
   {
    "duration": 92,
    "start_time": "2024-03-04T08:09:42.592Z"
   },
   {
    "duration": 173,
    "start_time": "2024-03-04T08:09:42.685Z"
   },
   {
    "duration": 301,
    "start_time": "2024-03-04T08:09:42.860Z"
   },
   {
    "duration": 202,
    "start_time": "2024-03-04T08:09:43.163Z"
   },
   {
    "duration": 118,
    "start_time": "2024-03-04T08:09:43.366Z"
   },
   {
    "duration": 23,
    "start_time": "2024-03-04T08:09:43.485Z"
   },
   {
    "duration": 17,
    "start_time": "2024-03-04T08:09:43.510Z"
   },
   {
    "duration": 7,
    "start_time": "2024-03-04T08:09:43.529Z"
   },
   {
    "duration": 20,
    "start_time": "2024-03-04T08:09:43.537Z"
   },
   {
    "duration": 35,
    "start_time": "2024-03-04T08:09:43.558Z"
   },
   {
    "duration": 613,
    "start_time": "2024-03-04T08:09:43.597Z"
   },
   {
    "duration": 533,
    "start_time": "2024-03-04T08:09:44.212Z"
   },
   {
    "duration": 122,
    "start_time": "2024-03-04T08:09:44.746Z"
   },
   {
    "duration": 13,
    "start_time": "2024-03-04T08:09:44.870Z"
   },
   {
    "duration": 29,
    "start_time": "2024-03-04T08:09:44.885Z"
   },
   {
    "duration": 12,
    "start_time": "2024-03-04T08:09:44.916Z"
   },
   {
    "duration": 16,
    "start_time": "2024-03-04T08:09:44.929Z"
   },
   {
    "duration": 52,
    "start_time": "2024-03-04T08:31:12.937Z"
   },
   {
    "duration": 96,
    "start_time": "2024-03-04T08:33:50.520Z"
   },
   {
    "duration": 9,
    "start_time": "2024-03-04T08:34:31.222Z"
   },
   {
    "duration": 1251,
    "start_time": "2024-03-04T08:34:50.837Z"
   },
   {
    "duration": 7,
    "start_time": "2024-03-04T08:35:11.288Z"
   },
   {
    "duration": 1179,
    "start_time": "2024-03-04T08:35:23.565Z"
   },
   {
    "duration": 8,
    "start_time": "2024-03-04T08:36:21.926Z"
   },
   {
    "duration": 10,
    "start_time": "2024-03-04T08:50:31.387Z"
   },
   {
    "duration": 230,
    "start_time": "2024-03-04T08:50:45.885Z"
   },
   {
    "duration": 217,
    "start_time": "2024-03-04T09:01:06.660Z"
   },
   {
    "duration": 208,
    "start_time": "2024-03-04T09:02:42.687Z"
   },
   {
    "duration": 233,
    "start_time": "2024-03-04T09:03:18.309Z"
   },
   {
    "duration": 340,
    "start_time": "2024-03-04T09:04:10.086Z"
   },
   {
    "duration": 9,
    "start_time": "2024-03-04T09:08:35.538Z"
   },
   {
    "duration": 225,
    "start_time": "2024-03-04T09:08:45.253Z"
   },
   {
    "duration": 225,
    "start_time": "2024-03-04T09:14:09.816Z"
   },
   {
    "duration": 217,
    "start_time": "2024-03-04T09:14:15.251Z"
   },
   {
    "duration": 225,
    "start_time": "2024-03-04T09:14:17.357Z"
   },
   {
    "duration": 315,
    "start_time": "2024-03-04T09:14:21.525Z"
   },
   {
    "duration": 90,
    "start_time": "2024-03-04T09:14:56.991Z"
   },
   {
    "duration": 9,
    "start_time": "2024-03-04T09:15:45.711Z"
   },
   {
    "duration": 17,
    "start_time": "2024-03-04T09:15:59.850Z"
   },
   {
    "duration": 13,
    "start_time": "2024-03-04T09:16:15.046Z"
   },
   {
    "duration": 80,
    "start_time": "2024-03-04T09:16:51.917Z"
   },
   {
    "duration": 6,
    "start_time": "2024-03-04T09:17:10.000Z"
   },
   {
    "duration": 1259,
    "start_time": "2024-03-04T15:10:54.934Z"
   },
   {
    "duration": 187,
    "start_time": "2024-03-04T15:10:56.195Z"
   },
   {
    "duration": 26,
    "start_time": "2024-03-04T15:10:56.384Z"
   },
   {
    "duration": 12,
    "start_time": "2024-03-04T15:10:56.412Z"
   },
   {
    "duration": 9,
    "start_time": "2024-03-04T15:10:56.426Z"
   },
   {
    "duration": 10,
    "start_time": "2024-03-04T15:10:56.437Z"
   },
   {
    "duration": 44,
    "start_time": "2024-03-04T15:10:56.449Z"
   },
   {
    "duration": 9,
    "start_time": "2024-03-04T15:10:56.495Z"
   },
   {
    "duration": 23,
    "start_time": "2024-03-04T15:10:56.506Z"
   },
   {
    "duration": 5,
    "start_time": "2024-03-04T15:10:56.530Z"
   },
   {
    "duration": 7,
    "start_time": "2024-03-04T15:10:56.537Z"
   },
   {
    "duration": 23,
    "start_time": "2024-03-04T15:10:56.545Z"
   },
   {
    "duration": 6,
    "start_time": "2024-03-04T15:10:56.583Z"
   },
   {
    "duration": 16,
    "start_time": "2024-03-04T15:10:56.592Z"
   },
   {
    "duration": 6,
    "start_time": "2024-03-04T15:10:56.610Z"
   },
   {
    "duration": 10,
    "start_time": "2024-03-04T15:10:56.617Z"
   },
   {
    "duration": 196,
    "start_time": "2024-03-04T15:10:56.628Z"
   },
   {
    "duration": 121,
    "start_time": "2024-03-04T15:10:56.826Z"
   },
   {
    "duration": 255,
    "start_time": "2024-03-04T15:10:56.949Z"
   },
   {
    "duration": 407,
    "start_time": "2024-03-04T15:10:57.206Z"
   },
   {
    "duration": 267,
    "start_time": "2024-03-04T15:10:57.615Z"
   },
   {
    "duration": 224,
    "start_time": "2024-03-04T15:10:57.884Z"
   },
   {
    "duration": 20,
    "start_time": "2024-03-04T15:10:58.110Z"
   },
   {
    "duration": 40,
    "start_time": "2024-03-04T15:10:58.132Z"
   },
   {
    "duration": 13,
    "start_time": "2024-03-04T15:10:58.173Z"
   },
   {
    "duration": 44,
    "start_time": "2024-03-04T15:10:58.187Z"
   },
   {
    "duration": 36,
    "start_time": "2024-03-04T15:10:58.233Z"
   },
   {
    "duration": 320,
    "start_time": "2024-03-04T15:10:58.271Z"
   },
   {
    "duration": 322,
    "start_time": "2024-03-04T15:10:58.592Z"
   },
   {
    "duration": 291,
    "start_time": "2024-03-04T15:10:58.916Z"
   },
   {
    "duration": 301,
    "start_time": "2024-03-04T15:10:59.208Z"
   },
   {
    "duration": 34,
    "start_time": "2024-03-04T15:10:59.511Z"
   },
   {
    "duration": 27,
    "start_time": "2024-03-04T15:10:59.547Z"
   },
   {
    "duration": 68,
    "start_time": "2024-06-24T19:39:11.001Z"
   },
   {
    "duration": 43,
    "start_time": "2024-06-24T19:49:27.882Z"
   }
  ],
  "kernelspec": {
   "display_name": "Python 3 (ipykernel)",
   "language": "python",
   "name": "python3"
  },
  "language_info": {
   "codemirror_mode": {
    "name": "ipython",
    "version": 3
   },
   "file_extension": ".py",
   "mimetype": "text/x-python",
   "name": "python",
   "nbconvert_exporter": "python",
   "pygments_lexer": "ipython3",
   "version": "3.9.5"
  },
  "toc": {
   "base_numbering": 1,
   "nav_menu": {},
   "number_sections": true,
   "sideBar": true,
   "skip_h1_title": true,
   "title_cell": "Table of Contents",
   "title_sidebar": "Contents",
   "toc_cell": false,
   "toc_position": {
    "height": "calc(100% - 180px)",
    "left": "10px",
    "top": "150px",
    "width": "288px"
   },
   "toc_section_display": true,
   "toc_window_display": true
  }
 },
 "nbformat": 4,
 "nbformat_minor": 5
}
